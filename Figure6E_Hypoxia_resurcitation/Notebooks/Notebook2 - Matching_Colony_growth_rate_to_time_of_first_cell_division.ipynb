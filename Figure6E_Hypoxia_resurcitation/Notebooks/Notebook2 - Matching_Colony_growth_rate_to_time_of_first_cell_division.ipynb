{
 "cells": [
  {
   "cell_type": "markdown",
   "id": "3b0d1dd9",
   "metadata": {},
   "source": [
    "## <font color='seagreen'>Notebook2 -  Matching Colony growth rate to time of first cell division</font> "
   ]
  },
  {
   "cell_type": "markdown",
   "id": "f0f3e1cc",
   "metadata": {},
   "source": [
    "To determine the effects of hypoxia duration on  bacterial resuscitation, time until first division and colony growth rate were extracted from our single cell time-lapse microscopy data. In this notebook we will extract the manually annotated point layer data created in the Napari python viewer to annotate single-cell first division event. "
   ]
  },
  {
   "cell_type": "code",
   "execution_count": 2,
   "id": "38e49e06",
   "metadata": {},
   "outputs": [],
   "source": [
    "#used libraries\n",
    "import pandas as pd\n",
    "from scipy.ndimage import label as nlabel\n",
    "from glob import glob\n",
    "from skimage import io\n",
    "import numpy as np\n",
    "from numpy import copy\n",
    "from nd2reader import ND2Reader\n",
    "import napari\n",
    "import seaborn as sns \n",
    "import matplotlib.pyplot as plt\n",
    "from skimage.measure import regionprops_table\n",
    "from scipy.signal import savgol_filter"
   ]
  },
  {
   "cell_type": "markdown",
   "id": "8f58fb80",
   "metadata": {},
   "source": [
    "***"
   ]
  },
  {
   "cell_type": "markdown",
   "id": "4a672dfb",
   "metadata": {},
   "source": [
    "## Btrack tracking of single colony data"
   ]
  },
  {
   "cell_type": "markdown",
   "id": "e82993d8",
   "metadata": {},
   "source": [
    "The Btrack napari plugin was used to track single colony growth traces over time (https://www.napari-hub.org/plugins/btrack). Here we load the data and assign them to the corresponding single cell division events. **Note, these steps have already been performed and then mannually corrected using the napari viewer. The resulting data can be found in the folder ./segmented/Rep{i}/{v}/ where i represent the replicate number and v the imaging position.**"
   ]
  },
  {
   "cell_type": "markdown",
   "id": "18723f16",
   "metadata": {},
   "source": [
    "Load Btrack trace data."
   ]
  },
  {
   "cell_type": "code",
   "execution_count": null,
   "id": "989fc23f",
   "metadata": {},
   "outputs": [],
   "source": [
    "trace1,trace2=pd.read_csv(fr'..\\Results\\all_traces_Rep1.csv'),pd.read_csv(fr'..\\Results\\all_traces_Rep2.csv')\n",
    "trace1['rep']=1\n",
    "trace2['rep']=2\n",
    "merged_traces=pd.concat([trace1,trace2])\n",
    "merged_traces\n",
    "starting_traces=merged_traces[merged_traces['t_x']==0].root.unique()\n",
    "merged_traces=merged_traces[merged_traces['root'].isin(starting_traces)]"
   ]
  },
  {
   "cell_type": "markdown",
   "id": "8581c5b4",
   "metadata": {},
   "source": [
    "Relabel images based on Btrack traces."
   ]
  },
  {
   "cell_type": "code",
   "execution_count": null,
   "id": "9a013819",
   "metadata": {
    "scrolled": true
   },
   "outputs": [],
   "source": [
    "for i in range(1,3):\n",
    "    \n",
    "    segments=glob(fr'../Data/segmented/Rep{i}/*/stacked_img.tiff')\n",
    "    segments=sorted(segments,key=lambda x: int(x.split('\\\\')[1].split('.')[0]))\n",
    "    rep_filt_traces=merged_traces[merged_traces['rep']==i]\n",
    "    \n",
    "    v=0\n",
    "    \n",
    "    for segment in segments[v:]:\n",
    "        \n",
    "        #load segmented untracked images and btrack traces.\n",
    "        img=io.imread(segment)\n",
    "        v_traces=rep_filt_traces[rep_filt_traces['v']==v+1]\n",
    "        \n",
    "        #loop through the image zstack\n",
    "        rlabeled_img=np.zeros(img.shape, dtype='uint16')\n",
    "        for j in range(img.shape[0]):\n",
    "            zplane=img[j,...]\n",
    "            labeled_zplane,_=nlabel(zplane)\n",
    "            #give old labels unique id range\n",
    "            labeled_zplane[labeled_zplane!=0]+=1000\n",
    "            \n",
    "            #identify relevant trace\n",
    "            z_traces=v_traces[v_traces['t_x']==j]\n",
    "            z_traces=z_traces.groupby('root').head(1)\n",
    "            \n",
    "            #extract coordinates roots\n",
    "            coordinates_tracking=list(zip(z_traces.root,z_traces.centroid_x,z_traces.centroid_y))\n",
    "            nonzeros=np.nonzero(labeled_zplane)\n",
    "            nonzeros_coords=list(zip(nonzeros[0],nonzeros[1]))\n",
    "            \n",
    "            #give each colony new labels based on single colony traces\n",
    "            for coord in coordinates_tracking:\n",
    "                new_label=coord[0]\n",
    "                random_label=labeled_zplane[int(round(coord[1])),int(round(coord[2]))]\n",
    "                \n",
    "                if new_label!=0 and random_label!=0:\n",
    "                    labeled_zplane[labeled_zplane==random_label]=new_label\n",
    "                    rlabeled_img[j,...]=labeled_zplane\n",
    "                else:\n",
    "                    distances=[]\n",
    "                    for nonzeros_coord in nonzeros_coords:\n",
    "                        distances.append(get_distance((coord[1],coord[2]),nonzeros_coord))\n",
    "                    index_min = np.argmin(distances)\n",
    "                    random_label=labeled_zplane[nonzeros_coords[index_min]]\n",
    "                    labeled_zplane[labeled_zplane==random_label]=new_label\n",
    "                    rlabeled_img[j,...]=labeled_zplane\n",
    "                    \n",
    "        #remove old labels\n",
    "        rlabeled_img[rlabeled_img>=1000]=0\n",
    "        #uncomment the io.imsave to overwrite the saved data\n",
    "        #io.imsave(fr'./segmented/Rep{i}/{v}/rl_stacked_img.tiff',rlabeled_img)\n",
    "        print(fr'saved Rep{i}/{v}/rl_stacked_img.tiff')\n",
    "        v+=1"
   ]
  },
  {
   "cell_type": "markdown",
   "id": "4bfbb4e9",
   "metadata": {},
   "source": [
    "manually check all images and correct if necessary"
   ]
  },
  {
   "cell_type": "code",
   "execution_count": null,
   "id": "8a8ddd4c",
   "metadata": {},
   "outputs": [],
   "source": [
    "files=glob(r'../Data/*.nd2')\n",
    "rep1=files[0]\n",
    "rep2=files[1] \n",
    "images=ND2Reader(rep1)\n",
    "images.bundle_axes = 'tyx'\n",
    "images.iter_axes = 'v'"
   ]
  },
  {
   "cell_type": "code",
   "execution_count": null,
   "id": "4e9d295b",
   "metadata": {},
   "outputs": [],
   "source": [
    "#select imaging fov\n",
    "v=19\n",
    "\n",
    "#select replicate\n",
    "i=1\n",
    "\n",
    "viewer=napari.Viewer()\n",
    "\n",
    "viewer.add_image(images[v])\n",
    "viewer.add_labels(io.imread(f'../Data/segmented/Rep{i}/{v}/crl_stacked_img.tiff').astype(int))"
   ]
  },
  {
   "cell_type": "code",
   "execution_count": null,
   "id": "01cf7c92",
   "metadata": {},
   "outputs": [],
   "source": [
    "#uncomment the io.imsave to overwrite the saved data\n",
    "#io.imsave(f'./segmented/Rep{i}/{v}/crl_stacked_img.tiff', viewer.layers['Labels'].data)\n",
    "viewer.close()\n",
    "print(v)"
   ]
  },
  {
   "cell_type": "markdown",
   "id": "70681683",
   "metadata": {},
   "source": [
    "***"
   ]
  },
  {
   "cell_type": "markdown",
   "id": "a00e26f6",
   "metadata": {},
   "source": [
    "## Extract growth rates from corrected colony masks over time"
   ]
  },
  {
   "cell_type": "markdown",
   "id": "152728e2",
   "metadata": {},
   "source": [
    "Extract area properties from manual corrected tracked colony masks."
   ]
  },
  {
   "cell_type": "code",
   "execution_count": null,
   "id": "60f97a06",
   "metadata": {},
   "outputs": [],
   "source": [
    "frames=[]\n",
    "for i in range(1,3):\n",
    "    \n",
    "    segments=glob(fr'../Data/segmented/Rep{i}/*/crl_stacked_img.tiff')\n",
    "    segments=sorted(segments,key=lambda x: int(x.split('\\\\')[1].split('.')[0]))\n",
    "    \n",
    "    v=0\n",
    "    \n",
    "    for segment in segments:\n",
    "        img = io.imread(segment)\n",
    "        for j in range(img.shape[0]):\n",
    "            zplane = img[j,...]\n",
    "            frame=pd.DataFrame(regionprops_table(zplane,properties=['label','area']))\n",
    "            frame['time'] = j\n",
    "            frame['v'] = v\n",
    "            frame['rep']=i\n",
    "            frames.append(frame)\n",
    "        v+=1\n",
    "        \n",
    "growth_frame=pd.concat(frames)\n",
    "growth_frame=growth_frame.reset_index()"
   ]
  },
  {
   "cell_type": "code",
   "execution_count": null,
   "id": "59e994ed",
   "metadata": {},
   "outputs": [],
   "source": [
    "growth_frame['condition'] = np.where(growth_frame['v']<= 10, '3.5 Hypoxia', '5 Hypoxia')\n",
    "growth_frame['id']=growth_frame['label'].astype(str) + '_' + growth_frame['v'].astype(str)+\"_\"+growth_frame['rep'].astype(str)"
   ]
  },
  {
   "cell_type": "markdown",
   "id": "f17888f1",
   "metadata": {},
   "source": [
    "Saved resulting growth_frame data."
   ]
  },
  {
   "cell_type": "code",
   "execution_count": null,
   "id": "a58a05ec",
   "metadata": {},
   "outputs": [],
   "source": [
    "#uncomment to overwrite the saved data\n",
    "#growth_frame.to_csv(fr'../Results/growth_frame.csv')"
   ]
  },
  {
   "cell_type": "code",
   "execution_count": null,
   "id": "54d00c47",
   "metadata": {},
   "outputs": [],
   "source": [
    "ax=sns.lineplot(\n",
    "    data=growth_frame,\n",
    "    x=\"time\", y=\"area\", hue=\"condition\")\n",
    "ax.set_xlabel('time (frames: each frame is 15 mins)')\n",
    "ax.set_xlim(0,100)# after 100 images become too crowded to analyse in many cases\n",
    "#uncomment to overwrite the saved figure\n",
    "#plt.savefig(fr'../Figures/combined_colony_traces_both_replicates.svg')"
   ]
  },
  {
   "cell_type": "code",
   "execution_count": null,
   "id": "b18dbeef",
   "metadata": {},
   "outputs": [],
   "source": [
    "ax=sns.lineplot(\n",
    "    data=growth_frame,\n",
    "    x=\"time\", y=\"area\", hue=\"condition\", units=\"id\",\n",
    "    estimator=None, lw=0.15,\n",
    ")\n",
    "ax.set_xlabel('time (frames)')\n",
    "#uncomment to overwrite the saved figure\n",
    "#plt.savefig(fr'../Figures/single_colony_traces_both_replicates.svg')"
   ]
  },
  {
   "cell_type": "markdown",
   "id": "9cd6760f",
   "metadata": {},
   "source": [
    "Extract growth rates from areas."
   ]
  },
  {
   "cell_type": "markdown",
   "id": "f2e0b24c",
   "metadata": {},
   "source": [
    "The 1st derivative of a linear savitzky golay filter was applied to area increase over time to determine the maximal growth rate of single colonies."
   ]
  },
  {
   "cell_type": "code",
   "execution_count": null,
   "id": "ccdfe101",
   "metadata": {},
   "outputs": [],
   "source": [
    "savgol_filter?"
   ]
  },
  {
   "cell_type": "code",
   "execution_count": null,
   "id": "d54b46fe",
   "metadata": {},
   "outputs": [],
   "source": [
    "growth_frame['log_area'] = np.log(growth_frame['area'])\n",
    "growth_rate_avgs=[]\n",
    "IDs=[]\n",
    "Mus=[]\n",
    "areas=[]\n",
    "times=[]\n",
    "lows=[]\n",
    "tops=[]\n",
    "nl_areas=[]\n",
    "for ID in growth_frame['id'].unique():\n",
    "    area=growth_frame[growth_frame['id']==ID]['log_area'].values\n",
    "    nl_area=growth_frame[growth_frame['id']==ID]['area'].values\n",
    "    time=growth_frame[growth_frame['id']==ID]['time'].values*4\n",
    "    \n",
    "    if len(area)>1:\n",
    "        #savgol filter to extract growth rates.\n",
    "        Mu=savgol_filter(area,28,1,deriv=1,delta=15/60,axis=0,mode='nearest')\n",
    "        areas.append(area)\n",
    "        max_ind=np.argmax(Mu)\n",
    "        Mus.append(Mu)\n",
    "        low=max_ind-5\n",
    "        top=max_ind+5\n",
    "        if low<0:\n",
    "            low=0\n",
    "        if top>len(area-1):\n",
    "            top=len(area)\n",
    "        growth_rate_avgs.append(Mu[low:top].mean())\n",
    "        IDs.append(ID)\n",
    "        times.append(time)\n",
    "        lows.append(low)\n",
    "        tops.append(top)\n",
    "        nl_areas.append(nl_area)\n",
    "\n",
    "#combine growth rate data.                \n",
    "avg_growth_frame=pd.DataFrame({'id':IDs,\n",
    "                               'growth_rate_avgs':growth_rate_avgs,\n",
    "                                'Mus':Mus,\n",
    "                                'Area':areas,\n",
    "                                'time':times,\n",
    "                                'low':lows,\n",
    "                                'top':tops,\n",
    "                                'non log area':nl_areas})"
   ]
  },
  {
   "cell_type": "markdown",
   "id": "b62b8d93",
   "metadata": {},
   "source": [
    "***"
   ]
  },
  {
   "cell_type": "markdown",
   "id": "bea2add5",
   "metadata": {},
   "source": [
    "## Match colony growth rates with time until first division of single cells"
   ]
  },
  {
   "cell_type": "markdown",
   "id": "a009a865",
   "metadata": {},
   "source": [
    "Next, we will match the extracted growth rate data to our single cell first division time points. Each first cell division timepoint is matched to the colony growth rate of which that cell was a part of."
   ]
  },
  {
   "cell_type": "code",
   "execution_count": null,
   "id": "19d96cfb",
   "metadata": {},
   "outputs": [],
   "source": [
    "t2frame=pd.read_csv(fr'../Results/R2_frame.csv')\n",
    "t2frame['rep']=2\n",
    "t1frame=pd.read_csv(fr'../Results/R1_frame.csv')\n",
    "t1frame['rep']=1\n",
    "earliest_df=pd.concat([t1frame,t2frame])\n",
    "earliest_df\n",
    "earliest_df.set_axis(['Unnamed: 0','level_0','index','t','centroid_x','centroid_y','v','condition','time','rep'], axis=1,inplace=True)\n",
    "tframe=earliest_df[['t','time','centroid_x','centroid_y','v','rep','condition']]\n"
   ]
  },
  {
   "cell_type": "code",
   "execution_count": null,
   "id": "1902761e",
   "metadata": {},
   "outputs": [],
   "source": [
    "new_tframes=[]\n",
    "for i in range(1,3):\n",
    "    \n",
    "    segments=glob(fr'../Data/segmented/Rep{i}/*/crl_stacked_img.tiff')\n",
    "    segments=sorted(segments,key=lambda x: int(x.split('\\\\')[1].split('.')[0]))\n",
    "    \n",
    "    v=0\n",
    "    \n",
    "    for segment in segments:\n",
    "        img = io.imread(segment)\n",
    "        sel_tframe=tframe[(tframe['v']==f'{v}') & (tframe['rep']==i)]\n",
    "        labels=[]\n",
    "        for index,row in sel_tframe.iterrows():\n",
    "            z=int(float(row['t']))\n",
    "            y=int(row['centroid_x'])\n",
    "            x=int(row['centroid_y'])\n",
    "            label=img[z,y,x]\n",
    "            labels.append(label)\n",
    "                \n",
    "        sel_tframe['labels']=labels\n",
    "        new_tframes.append(sel_tframe)\n",
    "        v+=1\n",
    "    \n",
    "new_all_tframe=pd.concat(new_tframes)"
   ]
  },
  {
   "cell_type": "code",
   "execution_count": null,
   "id": "26c6357d",
   "metadata": {},
   "outputs": [],
   "source": [
    "#map single colony growth rates to first time point of division cell data in a single dataframe. \n",
    "mapping=avg_growth_frame.groupby('id')['growth_rate_avgs'].apply(list).to_dict()\n",
    "new_all_tframe['id'] = new_all_tframe['labels'].astype(str) + '_' + new_all_tframe['v'].astype(str)+\"_\"+new_all_tframe['rep'].astype(str)\n",
    "new_all_tframe['growth_rate'] = new_all_tframe['id'].map(mapping)\n",
    "new_all_tframe=new_all_tframe.dropna()\n",
    "new_all_tframe=new_all_tframe.explode(column='growth_rate')\n",
    "new_all_tframe=new_all_tframe.rename(columns={'t':'earliest division time (frame)','time':'earliest division {hours}'})\n",
    "new_all_tframe['earliest division {hours}']=new_all_tframe['earliest division {hours}'].astype(float)"
   ]
  },
  {
   "cell_type": "code",
   "execution_count": null,
   "id": "69d5a89f",
   "metadata": {},
   "outputs": [],
   "source": [
    "#uncomment to overwrite and save data\n",
    "#avg_growth_frame.to_csv(fr'../Results/growth_rate.csv')"
   ]
  },
  {
   "cell_type": "markdown",
   "id": "5362c2e4",
   "metadata": {},
   "source": [
    "Plot growth rate vs earliest division timepoints"
   ]
  },
  {
   "cell_type": "code",
   "execution_count": null,
   "id": "fb211785",
   "metadata": {},
   "outputs": [],
   "source": [
    "new_all_tframe.head(5)"
   ]
  },
  {
   "cell_type": "code",
   "execution_count": null,
   "id": "7eb1d37e",
   "metadata": {},
   "outputs": [],
   "source": [
    "ax=sns.jointplot(x='earliest division {hours}',y='growth_rate',data=new_all_tframe.reset_index(), hue='condition',alpha=0.75,s=15)\n",
    "# JointGrid has a convenience function\n",
    "ax.set_axis_labels('time of first division (hrs)', 'log (average growth rate (dpixel_area/dtime))', fontsize=12)\n",
    "\n",
    "plt.tight_layout()\n",
    "#plt.savefig('../Figures/correlation_time_V_average_log_growth_rate.png',dpi=500)"
   ]
  },
  {
   "cell_type": "markdown",
   "id": "f5cfaf28",
   "metadata": {},
   "source": [
    "Plot single colony traces and region over which maximum growth rate was determined."
   ]
  },
  {
   "cell_type": "code",
   "execution_count": null,
   "id": "cc848cb3",
   "metadata": {},
   "outputs": [],
   "source": [
    "df=avg_growth_frame\n",
    "rdf=df.apply(pd.Series.explode).reset_index()\n",
    "rdf['label']=rdf.id.str.split('_',expand=True)[0]\n",
    "rdf['v']=rdf.id.str.split('_',expand=True)[1]\n",
    "rdf['rep']=rdf.id.str.split('_',expand=True)[2]\n",
    "rdf['conditions']=np.where(rdf['v'].astype(int)<=10,'hypoxia 3.5 days','hypoxia 5 days')"
   ]
  },
  {
   "cell_type": "code",
   "execution_count": null,
   "id": "a41440ad",
   "metadata": {},
   "outputs": [],
   "source": [
    "growth_rate_areas=[]\n",
    "growth_rate_log_areas=[]\n",
    "growth_rate_times=[]\n",
    "for index,row in df.iterrows():\n",
    "    low=row['low']\n",
    "    top=row['top']\n",
    "    growth_rate_areas.append(row['non log area'][low:top])\n",
    "    growth_rate_log_areas.append(row['Area'][low:top])\n",
    "    growth_rate_times.append(row['time'][low:top])\n",
    "df['gr_areas']=growth_rate_areas\n",
    "df['gr_log_areas']=growth_rate_log_areas\n",
    "df['gr_times']=growth_rate_times\n",
    "\n",
    "df2=df[['gr_log_areas','gr_areas','gr_times','id']]\n",
    "gdf=df2.apply(pd.Series.explode).reset_index()\n",
    "gdf['label']=gdf.id.str.split('_',expand=True)[0]\n",
    "gdf['v']=gdf.id.str.split('_',expand=True)[1]\n",
    "gdf['rep']=gdf.id.str.split('_',expand=True)[2]\n",
    "gdf['conditions']=np.where(gdf['v'].astype(int)<=10,'hypoxia 3.5 days','hypoxia 5 days')\n",
    "gdf.head(5)"
   ]
  },
  {
   "cell_type": "code",
   "execution_count": null,
   "id": "6706e553",
   "metadata": {},
   "outputs": [],
   "source": [
    "rdf['time (hrs)']=rdf['time']*15/60\n",
    "gdf['time (hrs)']=gdf['gr_times']*15/60"
   ]
  },
  {
   "cell_type": "code",
   "execution_count": null,
   "id": "650f6033",
   "metadata": {},
   "outputs": [],
   "source": [
    "fig,ax=plt.subplots(1,2,figsize=(40,20))\n",
    "\n",
    "sns.lineplot(ax=ax[0],data=rdf,x='time (hrs)',y='non log area',hue='conditions',units='id', estimator=None, lw=0.25)\n",
    "sns.lineplot(ax=ax[0],data=gdf,x='time (hrs)',y='gr_areas',units='id', estimator=None, lw=0.8, color='black',alpha=0.8)\n",
    "ax[0].set_xlabel('area (pixels)')\n",
    "\n",
    "sns.lineplot(ax=ax[1],data=rdf,x='time (hrs)',y='Area',hue='conditions',units='id', estimator=None, lw=0.25)\n",
    "sns.lineplot(ax=ax[1],data=gdf,x='time (hrs)',y='gr_log_areas',units='id', estimator=None, lw=0.8, color='black',alpha=0.8)\n",
    "ax[1].set_ylim(4.5,14)\n",
    "ax[1].set_xlabel('log area (pixels)')\n",
    "\n",
    "plt.savefig('../Figures/annotated_single_colony_growth_traces.svg',dpi=500)"
   ]
  },
  {
   "cell_type": "code",
   "execution_count": null,
   "id": "0bcdbcdf",
   "metadata": {},
   "outputs": [],
   "source": [
    "#uncommnent to save merged data\n",
    "#new_all_tframe.to_csv('../Results/earliest_div+growth_rate.csv')"
   ]
  },
  {
   "cell_type": "markdown",
   "id": "f556d3a9",
   "metadata": {},
   "source": [
    "Inspect single colony growth determination."
   ]
  },
  {
   "cell_type": "code",
   "execution_count": null,
   "id": "ba1f8c46",
   "metadata": {},
   "outputs": [],
   "source": [
    "fig, axes = plt.subplots(nrows=len(df), ncols = 2, figsize=(5,400))\n",
    "r=0\n",
    "for index,row in df.iterrows():\n",
    "    \n",
    "\n",
    "    tps=row['Mus']\n",
    "    max_growth=tps.argmax()\n",
    "    mean_growth=tps[max_growth-12:max_growth+12].mean()\n",
    "    \n",
    "    axes[r,0].plot([float(x)*(10/60) for x in range(0,len(row['Mus']))],row['non log area'], color='red')\n",
    "    axes[r,1].plot([float(x)*(10/60) for x in range(0,len(row['Mus']))],tps, color='black')\n",
    "\n",
    "    axes[r,0].set_title(f'exponential growth')\n",
    "    axes[r,1].set_title(f'Mu {mean_growth}')\n",
    "\n",
    "    r+=1\n",
    "    \n",
    "            \n",
    "plt.tight_layout()\n",
    "#uncomment to overwrite and save image\n",
    "#plt.savefig(fr'..\\Figures\\growth_rate_overview_figures.png')\n",
    "plt.show()"
   ]
  },
  {
   "cell_type": "markdown",
   "id": "e497c5c0",
   "metadata": {},
   "source": [
    "***"
   ]
  },
  {
   "cell_type": "markdown",
   "id": "ed028a0a",
   "metadata": {},
   "source": [
    "You have completed the final notebook of this analysis section."
   ]
  }
 ],
 "metadata": {
  "kernelspec": {
   "display_name": "napari",
   "language": "python",
   "name": "napari"
  },
  "language_info": {
   "codemirror_mode": {
    "name": "ipython",
    "version": 3
   },
   "file_extension": ".py",
   "mimetype": "text/x-python",
   "name": "python",
   "nbconvert_exporter": "python",
   "pygments_lexer": "ipython3",
   "version": "3.9.13"
  }
 },
 "nbformat": 4,
 "nbformat_minor": 5
}
