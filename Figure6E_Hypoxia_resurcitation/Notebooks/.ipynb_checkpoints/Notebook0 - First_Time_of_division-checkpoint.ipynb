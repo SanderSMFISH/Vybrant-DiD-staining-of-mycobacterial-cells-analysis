{
 "cells": [
  {
   "cell_type": "markdown",
   "id": "ecab0aec",
   "metadata": {},
   "source": [
    "## <font color='seagreen'>Notebook0 - First time of division</font> "
   ]
  },
  {
   "cell_type": "markdown",
   "id": "733b8a72",
   "metadata": {},
   "source": [
    "To determine the effects of hypoxia duration on  bacterial resuscitation, time until first division and colony growth rate were extracted from our single cell time-lapse microscopy data. In this notebook we will extract the manually annotated point layer data created in the Napari python viewer to annotate single-cell first division event. First time of division events where determined for all cells present at t0 in our single cell time-lapse microscopy data."
   ]
  },
  {
   "cell_type": "code",
   "execution_count": null,
   "id": "b4d53cc3",
   "metadata": {},
   "outputs": [],
   "source": [
    "#used libraries\n",
    "from glob import glob\n",
    "import pandas as pd\n",
    "import seaborn as sns \n",
    "import matplotlib.pyplot as plt\n",
    "from skimage import io\n",
    "from skimage.measure import regionprops_table\n",
    "import numpy as np\n",
    "from scipy.signal import savgol_filter"
   ]
  },
  {
   "cell_type": "markdown",
   "id": "0e86c65a",
   "metadata": {},
   "source": [
    "***"
   ]
  },
  {
   "cell_type": "markdown",
   "id": "3fc753ab",
   "metadata": {},
   "source": [
    "## Rep 1"
   ]
  },
  {
   "cell_type": "markdown",
   "id": "f93d29fc",
   "metadata": {},
   "source": [
    "Load timepoints of first division files."
   ]
  },
  {
   "cell_type": "code",
   "execution_count": null,
   "id": "d9d039cd",
   "metadata": {},
   "outputs": [],
   "source": [
    "path = fr'..\\Data\\Annotation_First_Division_points\\points_20220927_Biorep2_*'\n",
    "files= sorted(glob(path),key=len)\n",
    "files"
   ]
  },
  {
   "cell_type": "markdown",
   "id": "8eab06fc",
   "metadata": {},
   "source": [
    "Create dataframe."
   ]
  },
  {
   "cell_type": "code",
   "execution_count": null,
   "id": "15242005",
   "metadata": {},
   "outputs": [],
   "source": [
    "tables=[]\n",
    "for file in files:\n",
    "    name=int(file.split('\\\\')[-1].split('position')[1].split('.')[0])-1\n",
    "    if name < 11:\n",
    "        condition='hypoxia 3.5 days'\n",
    "    else:\n",
    "        condition='hypoxia 5 days'\n",
    "    \n",
    "    table = pd.read_csv(file)\n",
    "    table['name'] = name\n",
    "    table['condition'] = condition\n",
    "    tables.append(table)\n",
    "frame = pd.concat(tables)\n",
    "frame['time']= (frame['axis-0'].astype(int) * 15)/60\n",
    "frame['time']=frame['time'].astype(float)\n",
    "frame=frame.sort_values(by='time')\n",
    "frame_1=frame.reset_index()"
   ]
  },
  {
   "cell_type": "markdown",
   "id": "d2fc7498",
   "metadata": {},
   "source": [
    "Create df for cells that didn't divide in this time period."
   ]
  },
  {
   "cell_type": "code",
   "execution_count": null,
   "id": "32c1c850",
   "metadata": {},
   "outputs": [],
   "source": [
    "non_div_35=0\n",
    "non_div_5=25\n",
    "frame_non_div_1=pd.DataFrame(\n",
    "    {'level_0':[x for x in range(0,non_div_35+non_div_5)], \n",
    "     'index':[x for x in range(0,non_div_35+non_div_5)],\n",
    "     'axis-0':['>36.5' for x in range(0,non_div_35+non_div_5)],\n",
    "     'axis-1':[x for x in range(0,non_div_35+non_div_5)],\n",
    "     'axis-2':[x for x in range(0,non_div_35+non_div_5)],\n",
    "     'name':['na' for x in range(0,non_div_35+non_div_5)],\n",
    "     'condition':['hypoxia 3.5 days' for x in range(0,non_div_35)]+['hypoxia 5 days' for x in range(0,non_div_5)],\n",
    "    'time':['>22' for x in range(0,non_div_35+non_div_5)]\n",
    "    }\n",
    ")"
   ]
  },
  {
   "cell_type": "markdown",
   "id": "787fc7d8",
   "metadata": {},
   "source": [
    "Add both frames together and plot."
   ]
  },
  {
   "cell_type": "code",
   "execution_count": null,
   "id": "855e5876",
   "metadata": {},
   "outputs": [],
   "source": [
    "t1frame=pd.concat([frame_1,frame_non_div_1])"
   ]
  },
  {
   "cell_type": "code",
   "execution_count": null,
   "id": "9330686e",
   "metadata": {},
   "outputs": [],
   "source": [
    "#uncomment to save and overwrite existing data\n",
    "#t1frame.to_csv('../Results/R1_frame.csv')"
   ]
  },
  {
   "cell_type": "code",
   "execution_count": null,
   "id": "36872ed2",
   "metadata": {
    "scrolled": true
   },
   "outputs": [],
   "source": [
    "plt.figure(figsize=(12,4))\n",
    "ax =sns.countplot(data=t1frame, x='time', hue='condition')\n",
    "sns.move_legend(ax, \"upper right\")\n",
    "ax.set_xlabel('time (hours)')\n",
    "ax.set_xticklabels('')\n",
    "\n",
    "#uncomment to save and overwrite existing data\n",
    "#plt.savefig(r'..\\Figures\\countplot_time_to_first_division.svg',dpi=500)"
   ]
  },
  {
   "cell_type": "code",
   "execution_count": null,
   "id": "da3d2321",
   "metadata": {},
   "outputs": [],
   "source": [
    "len(t1frame[(t1frame['condition']=='hypoxia 5 days') & (t1frame['time']!='>22')])"
   ]
  },
  {
   "cell_type": "markdown",
   "id": "5b10ee2c",
   "metadata": {},
   "source": [
    "***"
   ]
  },
  {
   "cell_type": "markdown",
   "id": "a2026954",
   "metadata": {},
   "source": [
    "## Rep 2 "
   ]
  },
  {
   "cell_type": "code",
   "execution_count": null,
   "id": "f0934a3b",
   "metadata": {},
   "outputs": [],
   "source": [
    "path = r'..\\Data\\Annotation_First_Division_points\\points_20220929_Biorep3_*'\n",
    "files= sorted(glob(path),key=len)"
   ]
  },
  {
   "cell_type": "code",
   "execution_count": null,
   "id": "0e71976e",
   "metadata": {},
   "outputs": [],
   "source": [
    "tables=[]\n",
    "for file in files:\n",
    "    name=int(file.split('\\\\')[-1].split('position')[1].split('.')[0])-1\n",
    "    if name < 11:\n",
    "        condition='hypoxia 3.5 days'\n",
    "    else:\n",
    "        condition='hypoxia 5 days'\n",
    "    \n",
    "    table = pd.read_csv(file)\n",
    "    table['name'] = name\n",
    "    table['condition'] = condition\n",
    "    tables.append(table)\n",
    "frame = pd.concat(tables)\n",
    "frame['time']= (frame['axis-0'].astype(int) * 15)/60\n",
    "frame['time']=frame['time'].astype(float)\n",
    "frame=frame.sort_values(by='time')\n",
    "frame_2=frame.reset_index()"
   ]
  },
  {
   "cell_type": "code",
   "execution_count": null,
   "id": "b20cfadc",
   "metadata": {},
   "outputs": [],
   "source": [
    "non_div_35=9\n",
    "non_div_5=41\n",
    "frame_non_div_2=pd.DataFrame(\n",
    "    {'level_0':[x for x in range(0,non_div_35+non_div_5)], \n",
    "     'index':[x for x in range(0,non_div_35+non_div_5)],\n",
    "     'axis-0':['>36.5' for x in range(0,non_div_35+non_div_5)],\n",
    "     'axis-1':[x for x in range(0,non_div_35+non_div_5)],\n",
    "     'axis-2':[x for x in range(0,non_div_35+non_div_5)],\n",
    "     'name':['na' for x in range(0,non_div_35+non_div_5)],\n",
    "     'condition':['hypoxia 3.5 days' for x in range(0,non_div_35)]+['hypoxia 5 days' for x in range(0,non_div_5)],\n",
    "    'time':['>32' for x in range(0,non_div_35+non_div_5)]\n",
    "    }\n",
    ")"
   ]
  },
  {
   "cell_type": "code",
   "execution_count": null,
   "id": "9727855f",
   "metadata": {},
   "outputs": [],
   "source": [
    "t2frame=pd.concat([frame_2,frame_non_div_2])\n",
    "#uncomment to save and overwrite existing data\n",
    "#t2frame.to_csv(fr'../Results/R2_frame.csv')"
   ]
  },
  {
   "cell_type": "code",
   "execution_count": null,
   "id": "0adceff9",
   "metadata": {},
   "outputs": [],
   "source": [
    "plt.figure(figsize=(12,4))\n",
    "\n",
    "ax =sns.countplot(data=t2frame, x='time', hue='condition')\n",
    "sns.move_legend(ax, \"upper right\")\n",
    "ax.set_xlabel('time (hours)')\n",
    "ax.set_xticklabels('')\n",
    "\n",
    "#uncomment to save and overwrite existing data\n",
    "#plt.savefig(r'..\\Figures\\countplot_time_to_first_division_R2.svg',dpi=500)"
   ]
  },
  {
   "cell_type": "markdown",
   "id": "dfa39fd2",
   "metadata": {},
   "source": [
    "***"
   ]
  },
  {
   "cell_type": "markdown",
   "id": "2acc27d4",
   "metadata": {},
   "source": [
    "In the next notebook (**Notebook1 - First_Time_of_division.ipynb**), we will extract the manually annotated time of first division datapoints in the napari viewer into a pandas dataframe."
   ]
  }
 ],
 "metadata": {
  "kernelspec": {
   "display_name": "napari",
   "language": "python",
   "name": "napari"
  },
  "language_info": {
   "codemirror_mode": {
    "name": "ipython",
    "version": 3
   },
   "file_extension": ".py",
   "mimetype": "text/x-python",
   "name": "python",
   "nbconvert_exporter": "python",
   "pygments_lexer": "ipython3",
   "version": "3.9.13"
  }
 },
 "nbformat": 4,
 "nbformat_minor": 5
}
