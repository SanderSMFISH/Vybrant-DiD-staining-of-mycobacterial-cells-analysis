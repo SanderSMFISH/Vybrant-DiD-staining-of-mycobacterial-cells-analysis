{
 "cells": [
  {
   "cell_type": "markdown",
   "id": "3e16fbf4",
   "metadata": {},
   "source": [
    "## <font color='seagreen'> NotebookExtra Macrophage infection rate </font>"
   ]
  },
  {
   "cell_type": "markdown",
   "id": "a1500f9b",
   "metadata": {},
   "source": [
    "This is an extra notebook in which we determine the number of viable bacteria per timepoint during macrophage infection."
   ]
  },
  {
   "cell_type": "code",
   "execution_count": null,
   "id": "d81549d5",
   "metadata": {},
   "outputs": [],
   "source": [
    "#Load libraries.\n",
    "import napari\n",
    "import os\n",
    "import numpy as np\n",
    "from glob import glob\n",
    "from joblib import load\n",
    "from functools import partial\n",
    "from skimage import io,segmentation,data, feature, future\n",
    "from sklearn.ensemble import RandomForestClassifier\n",
    "from magicgui import magicgui\n",
    "from pathlib import Path\n",
    "import matplotlib.pyplot as plt\n",
    "from PIL import Image\n",
    "from skimage.measure import regionprops_table\n",
    "import pandas as pd"
   ]
  },
  {
   "cell_type": "markdown",
   "id": "8b64d558",
   "metadata": {},
   "source": [
    "***"
   ]
  },
  {
   "cell_type": "markdown",
   "id": "10fb1c95",
   "metadata": {},
   "source": [
    "Load Dataframes."
   ]
  },
  {
   "cell_type": "code",
   "execution_count": null,
   "id": "a7e84c4d",
   "metadata": {},
   "outputs": [],
   "source": [
    "mframe=pd.read_pickle('../Results/macrophages_dataframe')\n",
    "bframe=pd.read_pickle('../Results/single_bacteria')\n",
    "bframe['time']=bframe.time.replace({'reshoots':'48 reshoots'})\n",
    "bframe['unique_ID']=bframe['macrophage_label'].astype(str)+'_'+bframe['time'].astype(str)+'_'+bframe['img_ID'].astype(str)\n",
    "mframe['unique_ID']=mframe['macrophage_label'].astype(str)+'_'+mframe['time'].astype(str)+'_'+mframe['img_ID'].astype(str)"
   ]
  },
  {
   "cell_type": "code",
   "execution_count": null,
   "id": "bccc1570",
   "metadata": {},
   "outputs": [],
   "source": [
    "mframe.head(5)"
   ]
  },
  {
   "cell_type": "markdown",
   "id": "8b161d7d",
   "metadata": {},
   "source": [
    "Apply previously established filter for positive CY3 bacteria."
   ]
  },
  {
   "cell_type": "code",
   "execution_count": null,
   "id": "4becc7d5",
   "metadata": {},
   "outputs": [],
   "source": [
    "fframe=bframe[bframe['CY3_intensity_mean']>4000]"
   ]
  },
  {
   "cell_type": "markdown",
   "id": "abe495b4",
   "metadata": {},
   "source": [
    "Nest bacteria in macrophage dataframe."
   ]
  },
  {
   "cell_type": "code",
   "execution_count": null,
   "id": "339952e0",
   "metadata": {},
   "outputs": [],
   "source": [
    "bac_numbers=[]\n",
    "dict_number_bac=dict(fframe['unique_ID'].value_counts())\n",
    "for key in mframe.unique_ID:\n",
    "    value=dict_number_bac.get(key,0)\n",
    "    bac_numbers.append(value)\n",
    "mframe['bacteria_CY3>4000']= bac_numbers"
   ]
  },
  {
   "cell_type": "code",
   "execution_count": null,
   "id": "086a3e6b",
   "metadata": {
    "scrolled": true
   },
   "outputs": [],
   "source": [
    "nest_frames=[]\n",
    "for key in mframe['unique_ID']:\n",
    "    to_nest=fframe[fframe['unique_ID']==key]\n",
    "    nest_frames.append(to_nest)"
   ]
  },
  {
   "cell_type": "code",
   "execution_count": null,
   "id": "7f525fa5",
   "metadata": {},
   "outputs": [],
   "source": [
    "mframe['nested_bacteria']=nest_frames"
   ]
  },
  {
   "cell_type": "code",
   "execution_count": null,
   "id": "2fad869f",
   "metadata": {},
   "outputs": [],
   "source": [
    "CY5_means=[]\n",
    "CY5_stds=[]\n",
    "CY3_means=[]\n",
    "CY3_stds=[]\n",
    "number_bacs=[]\n",
    "\n",
    "for index,columns in mframe.iterrows():\n",
    "    dataframe=columns['nested_bacteria']\n",
    "    number_bacs.append(len(dataframe))\n",
    "    \n",
    "    #channel mean\n",
    "    CY5_means.append(dataframe['CY5_intensity_mean'].mean())\n",
    "    CY5_stds.append(dataframe['CY5_intensity_mean'].std())\n",
    "    #channel mean\n",
    "    CY3_means.append(dataframe['CY3_intensity_mean'].mean())\n",
    "    CY3_stds.append(dataframe['CY3_intensity_mean'].std())"
   ]
  },
  {
   "cell_type": "code",
   "execution_count": null,
   "id": "8a8a0020",
   "metadata": {},
   "outputs": [],
   "source": [
    "frame=pd.DataFrame()\n",
    "frame['CY5_intensity_mean']=CY5_means\n",
    "frame['CY5_intensity_stds']=CY5_stds\n",
    "frame['CY3_intensity_mean']=CY3_means\n",
    "frame['CY3_intensity_stds']=CY3_stds\n",
    "frame['number_bacteria']=number_bacs\n",
    "frame['time']=mframe['time']\n",
    "frame['unique_ID']=mframe['unique_ID']"
   ]
  },
  {
   "cell_type": "code",
   "execution_count": null,
   "id": "d553f3e9",
   "metadata": {},
   "outputs": [],
   "source": [
    "#10.000 hour cutoff CY3 statistics\n",
    "for hour in sampled_frame['time'].unique():\n",
    "    tframe=frame[frame['time']==hour]\n",
    "    print(f'{hour} hours')\n",
    "    tframe = tframe.sample(n=245,replace=False, random_state=1)\n",
    "    print(f'macrophage postive cells:',len(tframe[tframe['number_bacteria']>0]))\n",
    "    print(f'percentage macrophage postive cells:',(len(tframe[tframe['number_bacteria']>0])/len(tframe))*100)\n",
    "    print(f'mean bacteria all macrophages:',tframe['number_bacteria'].mean())\n",
    "    print(f'mean bacteria of macrophages with atleast one bacteria:',tframe[tframe['number_bacteria']>0]['number_bacteria'].mean())\n",
    "    print('####')"
   ]
  },
  {
   "cell_type": "code",
   "execution_count": null,
   "id": "0e339651",
   "metadata": {},
   "outputs": [],
   "source": [
    "palettes=[sns.cubehelix_palette(light=.8, dark=0.4), sns.cubehelix_palette(start=2, rot=0, dark=0.4, light=.8)]\n",
    "fig,axis=plt.subplots()\n",
    "axis = sns.violinplot(x=\"time\", y=f\"number_bacteria\", data=sampled_frame, color=\".8\", scale='width')\n",
    "axis= sns.stripplot(x='time', y=f'number_bacteria',data=sampled_frame, palette=palettes[0],alpha=0.8, s=3, edgecolor='black', linewidth=.2)\n",
    "axis.set_title(f'total number of bacteria per macrophage per time point')\n",
    "axis.set_ylabel('number of bacteria')\n",
    "\n",
    "#uncomment to overwrite and save figure.\n",
    "#plt.savefig(fr'..\\Figures\\CY3above_4.000_number_of_bacteria_per_macrophage.svg', dpi=300)\n",
    "plt.show()"
   ]
  },
  {
   "cell_type": "markdown",
   "id": "1bf6660b",
   "metadata": {},
   "source": [
    "Average Lineplot of number of viable bacteria per timepoint during macrophage infection,"
   ]
  },
  {
   "cell_type": "code",
   "execution_count": null,
   "id": "be7087f1",
   "metadata": {
    "scrolled": false
   },
   "outputs": [],
   "source": [
    "import matplotlib\n",
    "\n",
    "palettes=[sns.cubehelix_palette(light=.8, dark=0.4), sns.cubehelix_palette(start=2, rot=0, dark=0.4, light=.8)]\n",
    "fig,axis=plt.subplots(2,1)\n",
    "sns.lineplot(ax=axis[0],x='time', y=f'number_bacteria',data=sampled_frame, color='red')\n",
    "sns.lineplot(ax=axis[1],x='time', y=f'number_bacteria',data=sampled_frame[sampled_frame['number_bacteria']>0], color='blue')\n",
    "axis[0].set_title(f'total number of bacteria per macrophage per time point')\n",
    "axis[0].set_xticks([0,12,24,36,48,72])\n",
    "axis[0].set_xlabel('time (hours)')\n",
    "axis[0].set_ylabel('mean # bacteria')\n",
    "\n",
    "axis[1].set_title(f'total number of bacteria per infected macrophage per time point')\n",
    "axis[1].set_xticks([0,12,24,36,48,72])\n",
    "axis[1].set_xlabel('time (hours)')\n",
    "axis[1].set_ylabel('mean # bacteria')\n",
    "plt.tight_layout()\n",
    "\n",
    "#Uncomment to overwrite and save data\n",
    "#plt.savefig(fr'..\\Figures\\pub_CY3above_10.000_number_of_bacteria_per_macrophage.svg', dpi=300)\n",
    "plt.show()"
   ]
  },
  {
   "cell_type": "code",
   "execution_count": null,
   "id": "042aeb21",
   "metadata": {},
   "outputs": [],
   "source": [
    "#Uncomment to overwrite and save data\n",
    "#sampled_frame.to_excel('../Results/number_of_bacteria_per_macrophage.xlsx')"
   ]
  },
  {
   "cell_type": "markdown",
   "id": "7ee566bd",
   "metadata": {},
   "source": [
    "***"
   ]
  },
  {
   "cell_type": "markdown",
   "id": "bd39b757",
   "metadata": {},
   "source": [
    "You have completed all the notebooks in this analysis section."
   ]
  }
 ],
 "metadata": {
  "kernelspec": {
   "display_name": "napari",
   "language": "python",
   "name": "napari"
  },
  "language_info": {
   "codemirror_mode": {
    "name": "ipython",
    "version": 3
   },
   "file_extension": ".py",
   "mimetype": "text/x-python",
   "name": "python",
   "nbconvert_exporter": "python",
   "pygments_lexer": "ipython3",
   "version": "3.9.13"
  }
 },
 "nbformat": 4,
 "nbformat_minor": 5
}
