{
 "cells": [
  {
   "cell_type": "markdown",
   "id": "a09a8a48",
   "metadata": {},
   "source": [
    "## <font color='seagreen'> Notebook1 Plotting Fluorescence Distributions of Vybrant DiD-MSm-DsRed intensities </font>"
   ]
  },
  {
   "cell_type": "markdown",
   "id": "ebb742ef",
   "metadata": {},
   "source": [
    "In this notebook, we will plot the intensity distributions of both the Vybrant DiD dye (CY5 channel) and Msm-DSRed (CY3 channel) intensity of single-bacteria during macrophage infections. "
   ]
  },
  {
   "cell_type": "code",
   "execution_count": null,
   "id": "6549e63f",
   "metadata": {},
   "outputs": [],
   "source": [
    "#Load libraries\n",
    "import pandas as pd\n",
    "import seaborn as sns\n",
    "import matplotlib.pyplot as plt\n",
    "from scipy.optimize import curve_fit\n",
    "import scipy as sp\n",
    "import numpy as np"
   ]
  },
  {
   "cell_type": "markdown",
   "id": "e43f1811",
   "metadata": {},
   "source": [
    "***"
   ]
  },
  {
   "cell_type": "markdown",
   "id": "1d6a8fe1",
   "metadata": {},
   "source": [
    "## Load Data"
   ]
  },
  {
   "cell_type": "markdown",
   "id": "d29d27c2",
   "metadata": {},
   "source": [
    "Load single bacteria frame."
   ]
  },
  {
   "cell_type": "code",
   "execution_count": null,
   "id": "75be7e9e",
   "metadata": {},
   "outputs": [],
   "source": [
    "big_frame=pd.read_pickle('../Results/final_single_bacteria.pkl')\n",
    "big_frame=big_frame.reset_index()"
   ]
  },
  {
   "cell_type": "code",
   "execution_count": null,
   "id": "3e567f70",
   "metadata": {},
   "outputs": [],
   "source": [
    "big_frame.head(3)"
   ]
  },
  {
   "cell_type": "markdown",
   "id": "c5aed46d",
   "metadata": {},
   "source": [
    "***"
   ]
  },
  {
   "cell_type": "markdown",
   "id": "8652f91d",
   "metadata": {},
   "source": [
    "## Plotting Data"
   ]
  },
  {
   "cell_type": "markdown",
   "id": "54a4d1ad",
   "metadata": {},
   "source": [
    "Plot unfiltered Fluorescence distributions (shown in **Figure 3D**)."
   ]
  },
  {
   "cell_type": "code",
   "execution_count": null,
   "id": "276a1112",
   "metadata": {},
   "outputs": [],
   "source": [
    "palettes=[sns.cubehelix_palette(light=.8, dark=0.4), sns.cubehelix_palette(start=2, rot=0, dark=0.4, light=.8)]\n",
    "order=[0,12,24,36,48,72]\n",
    "\n",
    "channels=['CY5','CY3']\n",
    "i=0\n",
    "for channel in channels:\n",
    "    axis = sns.violinplot(x=\"time\", y=f\"{channel}_intensity_mean\", data=big_frame, color=\".8\", scale='width',order=order)\n",
    "    axis=sns.stripplot(x='time', y=f'{channel}_intensity_mean',data=big_frame, palette=palettes[i],alpha=0.8, s=3, edgecolor='black', linewidth=.2, order=order)\n",
    "    axis.set_xlabel('time (hours)')\n",
    "    axis.set_title(f'{channel} Fluorescence intensity over time (A.U)')\n",
    "    axis.set_ylabel('Fluorescence intensity (A.U)')\n",
    "    #uncomment to overwrite and save figure\n",
    "    #plt.savefig(fr'..\\Figures\\unfiltered_{channel}_violinplot_decrease_over_time.svg',dpi=300)\n",
    "    plt.show()\n",
    "    i+=1"
   ]
  },
  {
   "cell_type": "markdown",
   "id": "3a46de8e",
   "metadata": {},
   "source": [
    "***"
   ]
  },
  {
   "cell_type": "markdown",
   "id": "556631b2",
   "metadata": {},
   "source": [
    "## Fitting an exponential decay function"
   ]
  },
  {
   "cell_type": "markdown",
   "id": "66700e38",
   "metadata": {},
   "source": [
    "Fit a exponential decay function through the CY5 intensity distributions over time (shown in **Figure 3C**.)"
   ]
  },
  {
   "cell_type": "code",
   "execution_count": null,
   "id": "dcb32380",
   "metadata": {
    "scrolled": true
   },
   "outputs": [],
   "source": [
    "def model_func(t, A, K, C):\n",
    "    return A * np.exp(-K * t) + C\n",
    "\n",
    "def partial_func(t, A, K):\n",
    "    return A * np.exp(-K * t) \n",
    "\n",
    "def fit_exp_nonlinear(t, y):\n",
    "    prem_parms, parm_cov = curve_fit(partial_func, t, y, maxfev=10000) \n",
    "    print(prem_parms)\n",
    "    A, K = prem_parms\n",
    "    \n",
    "    opt_parms, parm_cov = curve_fit(model_func, t, y, p0=(A, K, 0))\n",
    "    A, K, C = opt_parms\n",
    "    \n",
    "    return A, K, C\n",
    "\n",
    "t = np.array([0,12,24,36,48,72])\n",
    "\n",
    "y= [big_frame[big_frame['time']==hour].CY5_intensity_mean.mean() for hour in t]\n",
    "\n",
    "def plot(ax, t, y, fit_y, fit_parms):\n",
    "    A, K, C = fit_parms\n",
    "    ax.plot(t, fit_y, 'b-',\n",
    "      label='Fitted Function:\\n $y = %0.2f e^{%0.2f t} + %0.2f$' % (A, K, C))\n",
    "    ax.legend(bbox_to_anchor=(1.0, .98), fancybox=True, shadow=True)\n",
    "    ax.scatter(t,y)\n",
    "\n",
    "fig = plt.figure()\n",
    "ax1 = fig.add_subplot(1,1,1)\n",
    "\n",
    "\n",
    " # Non-linear Fit\n",
    "A, K, C = fit_exp_nonlinear(t, y)\n",
    "fit_y = model_func(t, A, K, C)\n",
    "plot(ax1, t, y,fit_y, (A, K, C))\n",
    "ax1.set_title('Non-linear Fit')\n",
    "\n",
    "#uncomment to overwrite and save figure\n",
    "#plt.savefig('..\\Figures\\exponential_decay_fit.png')"
   ]
  },
  {
   "cell_type": "markdown",
   "id": "1edf371d",
   "metadata": {},
   "source": [
    "***"
   ]
  },
  {
   "cell_type": "markdown",
   "id": "eff31a9c",
   "metadata": {},
   "source": [
    "## Plotting Intensity distribution over time"
   ]
  },
  {
   "cell_type": "markdown",
   "id": "cfbb9775",
   "metadata": {},
   "source": [
    "Changes in Intensity distributions over time."
   ]
  },
  {
   "cell_type": "code",
   "execution_count": null,
   "id": "3fea1b81",
   "metadata": {},
   "outputs": [],
   "source": [
    "channels=['CY5','CY3']\n",
    "i=0\n",
    "order=[0,12,24,36,48,72]\n",
    "\n",
    "\n",
    "for channel in channels:\n",
    "    sns.histplot(data=big_frame, x=f\"{channel}_intensity_mean\", element=\"bars\",hue='time',palette='colorblind' ,multiple='dodge',hue_order=order)\n",
    "    axis.set_xlabel('time (hours)')\n",
    "    axis.set_title(f'{channel} Fluorescence intensity over time (A.U)')\n",
    "    axis.set_ylabel('Fluorescence intensity (A.U)')\n",
    "    #uncomment to overwrite and save figure\n",
    "    #plt.savefig(fr'..\\Figures\\{channel}_barplot_decrease_over_time.svg',dpi=300)\n",
    "    plt.show()\n",
    "    i+=1"
   ]
  },
  {
   "cell_type": "markdown",
   "id": "6e6f2f91",
   "metadata": {},
   "source": [
    "Bargraphs split."
   ]
  },
  {
   "cell_type": "code",
   "execution_count": null,
   "id": "be3d8500",
   "metadata": {},
   "outputs": [],
   "source": [
    "g = sns.FacetGrid(big_frame, col=\"time\")\n",
    "g.map(sns.histplot, \"CY3_intensity_mean\", binwidth=1000, color='green')\n",
    "\n",
    "#uncomment to overwrite and save figure\n",
    "plt.savefig(r'..\\Figures\\CY3_intensity_over_time_several_barplots.svg')"
   ]
  },
  {
   "cell_type": "code",
   "execution_count": null,
   "id": "6291e3b8",
   "metadata": {},
   "outputs": [],
   "source": [
    "g = sns.FacetGrid(big_frame, col=\"time\")\n",
    "g.map(sns.histplot, \"CY5_intensity_mean\", binwidth=1000, color='purple')\n",
    "\n",
    "#uncomment to overwrite and save figure\n",
    "#plt.savefig(r'..\\Figures\\CY5_intensity_over_time_several_barplots.svg')"
   ]
  },
  {
   "cell_type": "markdown",
   "id": "2664c36b",
   "metadata": {},
   "source": [
    "***"
   ]
  },
  {
   "cell_type": "markdown",
   "id": "6d52e66f",
   "metadata": {},
   "source": [
    "In the next Notebook (**Notebooks_Data_exploration\\Notebook2_Plotting_Fraction_of_Positive_Vybrant_DiD_and_MSm-DsRed_Bacteria.ipynb**), we will determine the fraction of Vybrant Did bacteria in the entire viable bacterial population."
   ]
  }
 ],
 "metadata": {
  "kernelspec": {
   "display_name": "napari",
   "language": "python",
   "name": "napari"
  },
  "language_info": {
   "codemirror_mode": {
    "name": "ipython",
    "version": 3
   },
   "file_extension": ".py",
   "mimetype": "text/x-python",
   "name": "python",
   "nbconvert_exporter": "python",
   "pygments_lexer": "ipython3",
   "version": "3.9.13"
  }
 },
 "nbformat": 4,
 "nbformat_minor": 5
}
