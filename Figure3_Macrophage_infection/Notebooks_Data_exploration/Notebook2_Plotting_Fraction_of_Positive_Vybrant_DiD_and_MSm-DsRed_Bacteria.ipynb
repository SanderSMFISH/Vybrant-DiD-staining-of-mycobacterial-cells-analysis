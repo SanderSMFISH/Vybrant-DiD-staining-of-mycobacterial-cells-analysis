{
 "cells": [
  {
   "cell_type": "markdown",
   "id": "ea7439df",
   "metadata": {},
   "source": [
    "## <font color='seagreen'> Notebook2_Plotting_Fraction_of_Positive_Vybrant_DiD_and_MSm-DsRed_Bacteria </font>"
   ]
  },
  {
   "cell_type": "markdown",
   "id": "291b7a6c",
   "metadata": {},
   "source": [
    "In this notebook we will determine the number of viable and positively stained Vybrant_DID bacteria (CY5) over time. Bacteria where deemed viable if Msm-DsRed value was above an intensity threshold of 4000. Similarly, bacteria where deemed  Vybriant_DID positive if intensity was above 4000. "
   ]
  },
  {
   "cell_type": "code",
   "execution_count": null,
   "id": "4ed57d6d",
   "metadata": {},
   "outputs": [],
   "source": [
    "#Load Libraries\n",
    "import pandas as pd\n",
    "from glob import glob\n",
    "from skimage import io\n",
    "import numpy as np\n",
    "from skimage.measure import regionprops_table\n",
    "import matplotlib.pyplot as plt\n",
    "import seaborn as sns"
   ]
  },
  {
   "cell_type": "markdown",
   "id": "d3fd62eb",
   "metadata": {},
   "source": [
    "*** "
   ]
  },
  {
   "cell_type": "markdown",
   "id": "be89665e",
   "metadata": {},
   "source": [
    "## Load data"
   ]
  },
  {
   "cell_type": "markdown",
   "id": "6dcd7f0e",
   "metadata": {},
   "source": [
    "Load Dataframes."
   ]
  },
  {
   "cell_type": "code",
   "execution_count": null,
   "id": "d3eac3e3",
   "metadata": {},
   "outputs": [],
   "source": [
    "mac_frame=pd.read_pickle('../Results/final_macrophages_dataframe.pkl')\n",
    "big_frame=pd.read_pickle('../Results/final_single_bacteria.pkl')"
   ]
  },
  {
   "cell_type": "code",
   "execution_count": null,
   "id": "b931d180",
   "metadata": {
    "scrolled": false
   },
   "outputs": [],
   "source": [
    "big_frame.head(3)"
   ]
  },
  {
   "cell_type": "code",
   "execution_count": null,
   "id": "4d208993",
   "metadata": {},
   "outputs": [],
   "source": [
    "mac_frame.head(3)"
   ]
  },
  {
   "cell_type": "code",
   "execution_count": null,
   "id": "609abdba",
   "metadata": {},
   "outputs": [],
   "source": [
    "#mac_frame=mac_frame.reset_index()\n",
    "big_frame=big_frame.reset_index()"
   ]
  },
  {
   "cell_type": "markdown",
   "id": "c8d9504d",
   "metadata": {},
   "source": [
    "***"
   ]
  },
  {
   "cell_type": "markdown",
   "id": "2e49d5d2",
   "metadata": {},
   "source": [
    "## Determining Fluorescence thresholds for viable bacteria and Vybrant DiD positive staining."
   ]
  },
  {
   "cell_type": "markdown",
   "id": "5934c8b8",
   "metadata": {},
   "source": [
    "Mean autofluorescent intensisty uninfected macrophages. These figures are used to determine what the threshold for positive CY3 or CY5 bacteria is."
   ]
  },
  {
   "cell_type": "code",
   "execution_count": null,
   "id": "bc0f26f2",
   "metadata": {},
   "outputs": [],
   "source": [
    "#mean autofluorescence of bacteria in both channels\n",
    "print(big_frame.CY3_intensity_mean.mean())\n",
    "print(big_frame.CY5_intensity_mean.mean())"
   ]
  },
  {
   "cell_type": "code",
   "execution_count": null,
   "id": "1a71f163",
   "metadata": {},
   "outputs": [],
   "source": [
    "#max background fluorescent empty macrophages.\n",
    "print(mac_frame[mac_frame['bacteria']==0].CY3_intensity_mean.max())\n",
    "print(mac_frame[mac_frame['bacteria']==0].CY5_intensity_mean.max())"
   ]
  },
  {
   "cell_type": "code",
   "execution_count": null,
   "id": "e146976c",
   "metadata": {},
   "outputs": [],
   "source": [
    "#mean background fluorescent empty macrophages.\n",
    "print(mac_frame[mac_frame['bacteria']==0].CY3_intensity_mean.mean())\n",
    "print(mac_frame[mac_frame['bacteria']==0].CY5_intensity_mean.mean())"
   ]
  },
  {
   "cell_type": "code",
   "execution_count": null,
   "id": "00a520a5",
   "metadata": {},
   "outputs": [],
   "source": [
    "sns.histplot(x='CY3_intensity_mean',data=big_frame, color='g')\n",
    "\n",
    "#CY3 intensity threshold\n",
    "plt.axvline(4000,color='red')\n",
    "\n",
    "#uncomment to overwrite and save figure.\n",
    "#plt.savefig(r'..\\figures\\CY3_intensity_bacteria.svg')"
   ]
  },
  {
   "cell_type": "code",
   "execution_count": null,
   "id": "7a3833a0",
   "metadata": {},
   "outputs": [],
   "source": [
    "#Vibrannt_Did starting mean fluorescence intenisty at T0.\n",
    "big_frame[big_frame['time']==0].CY5_intensity_mean.min()"
   ]
  },
  {
   "cell_type": "code",
   "execution_count": null,
   "id": "2f3e699d",
   "metadata": {},
   "outputs": [],
   "source": [
    "sns.histplot(x='CY5_intensity_mean',data=big_frame[big_frame['time']==0], color='purple',bins=100)\n",
    "\n",
    "#threshold for Vibrant Did intensity of bacteria\n",
    "plt.axvline(4000,color='red')\n",
    "\n",
    "#uncomment to overwrite and save figure.\n",
    "#plt.savefig(r'..\\figures\\CY5_intensity_bacteria.svg')"
   ]
  },
  {
   "cell_type": "code",
   "execution_count": null,
   "id": "dafcaeca",
   "metadata": {},
   "outputs": [],
   "source": [
    "sns.histplot(x='CY5_intensity_mean',data=mac_frame[mac_frame['bacteria']==0], color='teal')\n",
    "\n",
    "#threshold for Vibrant Did intensity of bacteria\n",
    "plt.axvline(4000,color='red')\n",
    "#uncomment to overwrite and save figure.\n",
    "#plt.savefig(r'..\\figures\\CY5_intensity_uninfected_macrophages.svg')"
   ]
  },
  {
   "cell_type": "markdown",
   "id": "13f0c579",
   "metadata": {},
   "source": [
    "Fluorescent intensity of bacteria should be above macrophage background intensity for most of its population at T0. Otherwise it would be difficult to determine whether measured fluorescence is background signal of macrophage or signal of interest (Vybrant Did dye) from the bacteria."
   ]
  },
  {
   "cell_type": "markdown",
   "id": "dc0af130",
   "metadata": {},
   "source": [
    "Chosen fluorescent positivity filters based on the plots above."
   ]
  },
  {
   "cell_type": "code",
   "execution_count": null,
   "id": "b4e05972",
   "metadata": {},
   "outputs": [],
   "source": [
    "#filters for positivity\n",
    "\n",
    "#MSm-DsRed intensity threshold\n",
    "CY3_plus=4000\n",
    "\n",
    "#Vybrant Did intensity threshold\n",
    "CY5_plus=4000"
   ]
  },
  {
   "cell_type": "code",
   "execution_count": null,
   "id": "77512c14",
   "metadata": {},
   "outputs": [],
   "source": [
    "CY5_pos=big_frame['CY5_intensity_mean']>CY5_plus\n",
    "CY3_pos=big_frame['CY3_intensity_mean']>CY3_plus\n",
    "CY3_CY5_pos = CY3_pos & CY5_pos"
   ]
  },
  {
   "cell_type": "code",
   "execution_count": null,
   "id": "cb2c520e",
   "metadata": {},
   "outputs": [],
   "source": [
    "big_frame['CY5_pos']=CY5_pos\n",
    "big_frame['CY3_pos']=CY3_pos\n",
    "big_frame['CY5_CY3_pos']=CY3_CY5_pos"
   ]
  },
  {
   "cell_type": "markdown",
   "id": "bc2c37ec",
   "metadata": {},
   "source": [
    "***"
   ]
  },
  {
   "cell_type": "markdown",
   "id": "694ef60a",
   "metadata": {},
   "source": [
    "## Plotting Fractions"
   ]
  },
  {
   "cell_type": "code",
   "execution_count": null,
   "id": "eea2d397",
   "metadata": {},
   "outputs": [],
   "source": [
    "hours=[0, 12, 24, 36, 48, 72]"
   ]
  },
  {
   "cell_type": "markdown",
   "id": "587ecc57",
   "metadata": {},
   "source": [
    "Some data wrangling for easy plotting"
   ]
  },
  {
   "cell_type": "code",
   "execution_count": null,
   "id": "b39cf70c",
   "metadata": {},
   "outputs": [],
   "source": [
    "number_CY5_pos=[]\n",
    "number_CY3_pos=[]\n",
    "number_CY3_CY5_pos=[]\n",
    "totals=[]\n",
    "\n",
    "for hour in hours:\n",
    "    tframe=big_frame[big_frame['time']==hour]\n",
    "    totals.append(len(tframe))\n",
    "    number_CY5_pos.append(len(tframe[(tframe['CY5_CY3_pos']==False) & (tframe['CY5_pos']==True)]))\n",
    "    number_CY3_pos.append(len(tframe[(tframe['CY5_CY3_pos']==False) & (tframe['CY3_pos']==True)]))\n",
    "    number_CY3_CY5_pos.append(len(tframe[tframe['CY5_CY3_pos']==True]))"
   ]
  },
  {
   "cell_type": "code",
   "execution_count": null,
   "id": "a21f353b",
   "metadata": {},
   "outputs": [],
   "source": [
    "data=pd.DataFrame()\n",
    "data['CY5_pos']=number_CY5_pos\n",
    "data['CY3_pos']=number_CY3_pos\n",
    "data['CY5_CY3_pos']=number_CY3_CY5_pos\n",
    "data['total']=totals\n",
    "data['hours']=hours"
   ]
  },
  {
   "cell_type": "code",
   "execution_count": null,
   "id": "2a0ad594",
   "metadata": {},
   "outputs": [],
   "source": [
    "data_long=pd.melt(data, id_vars=['hours','total'], value_vars=['CY5_pos','CY3_pos','CY5_CY3_pos'])"
   ]
  },
  {
   "cell_type": "code",
   "execution_count": null,
   "id": "e4eab42f",
   "metadata": {},
   "outputs": [],
   "source": [
    "data_long['fraction']=data_long['value']/data_long['total']*100"
   ]
  },
  {
   "cell_type": "code",
   "execution_count": null,
   "id": "ca58a2ec",
   "metadata": {},
   "outputs": [],
   "source": [
    "data_long.head(5)"
   ]
  },
  {
   "cell_type": "code",
   "execution_count": null,
   "id": "1adef503",
   "metadata": {},
   "outputs": [],
   "source": [
    "hue = data_long['hours'].astype(str) + ', ' + data_long['variable'].astype(str)"
   ]
  },
  {
   "cell_type": "code",
   "execution_count": null,
   "id": "3c6c88dd",
   "metadata": {},
   "outputs": [],
   "source": [
    "data['both_neg']=data['total']-(data['CY5_pos']+data['CY3_pos']+data['CY5_CY3_pos'])"
   ]
  },
  {
   "cell_type": "code",
   "execution_count": null,
   "id": "3620cad5",
   "metadata": {},
   "outputs": [],
   "source": [
    "sdata = data.drop(columns=['total'])\n",
    "sdata=sdata.set_index('hours')"
   ]
  },
  {
   "cell_type": "markdown",
   "id": "255dad76",
   "metadata": {},
   "source": [
    "Plotting of stacked (fractional) bargraphs."
   ]
  },
  {
   "cell_type": "code",
   "execution_count": null,
   "id": "a45989e6",
   "metadata": {},
   "outputs": [],
   "source": [
    "r=[0,1,2,3,4,5]"
   ]
  },
  {
   "cell_type": "code",
   "execution_count": null,
   "id": "cb0ba299",
   "metadata": {},
   "outputs": [],
   "source": [
    "import numpy as np\n",
    "import matplotlib.pyplot as plt\n",
    "from matplotlib import rc\n",
    "import pandas as pd\n",
    "\n",
    "df = sdata\n",
    " \n",
    "# From raw value to percentage\n",
    "totals = [i+j+k+l for i,j,k,l in zip(df['CY5_pos'],df['CY3_pos'],df['CY5_CY3_pos'],df['both_neg'])]\n",
    "greenBars = [i / j * 100 for i,j in zip(df['CY5_pos'], totals)]\n",
    "orangeBars = [i / j * 100 for i,j in zip(df['CY3_pos'], totals)]\n",
    "blueBars = [i / j * 100 for i,j in zip(df['CY5_CY3_pos'], totals)]\n",
    "blackBars = [i / j * 100 for i,j in zip(df['both_neg'], totals)]\n",
    " \n",
    "\n",
    "# plot\n",
    "barWidth = 0.85\n",
    "names = hours\n",
    "\n",
    "# Create orange Bars\n",
    "plt.bar(r, orangeBars, color='#f9bc86', edgecolor='white', width=barWidth, label='CY3 positive')\n",
    "\n",
    "# Create green Bars\n",
    "plt.bar(r, greenBars,bottom=orangeBars, color='#b5ffb9', edgecolor='white', width=barWidth, label='CY5 positive')\n",
    "# Create blue Bars\n",
    "plt.bar(r, blueBars, bottom=[i+j for i,j in zip(greenBars, orangeBars)], color='#a3acff', edgecolor='white', width=barWidth, label='CY3 and CY5 positive')\n",
    "# Create black Bars\n",
    "plt.bar(r, blackBars, bottom=[i+j+k for i,j,k in zip(greenBars, orangeBars,blueBars)], color='violet', edgecolor='white', width=barWidth, label='neither')\n",
    " \n",
    "# Custom x axis\n",
    "plt.xticks(r, names)\n",
    "plt.ylabel('fraction of cells (%)')\n",
    "plt.xlabel(\"time\")\n",
    "\n",
    "# Add a legend\n",
    "plt.legend(loc='upper left', bbox_to_anchor=(1,1), ncol=1)\n",
    "\n",
    "plt.tight_layout()\n",
    "plt.savefig(r'..\\figures\\fraction_of_CY5_CY3_positive_cells.svg', dpi=500)\n",
    "\n",
    "# Show graphic\n",
    "plt.show()"
   ]
  },
  {
   "cell_type": "markdown",
   "id": "a94d3361",
   "metadata": {},
   "source": [
    "***"
   ]
  },
  {
   "cell_type": "markdown",
   "id": "7e40149e",
   "metadata": {},
   "source": [
    "Plotting used for publication (shown in **Figure 3B**)."
   ]
  },
  {
   "cell_type": "code",
   "execution_count": null,
   "id": "af41b835",
   "metadata": {},
   "outputs": [],
   "source": [
    "sdata = data.drop(columns=['CY5_pos','both_neg'])\n",
    "sdata=sdata.set_index('hours')"
   ]
  },
  {
   "cell_type": "code",
   "execution_count": null,
   "id": "8b473b70",
   "metadata": {},
   "outputs": [],
   "source": [
    "r=[0,1,2,3,4,5]\n",
    "hours=[0, 12, 24, 36, 48 , 72]"
   ]
  },
  {
   "cell_type": "code",
   "execution_count": null,
   "id": "80002d70",
   "metadata": {
    "scrolled": true
   },
   "outputs": [],
   "source": [
    "import numpy as np\n",
    "import matplotlib.pyplot as plt\n",
    "from matplotlib import rc\n",
    "import pandas as pd\n",
    "\n",
    "df = sdata\n",
    " \n",
    "# From raw value to percentage\n",
    "totals = [i+j for i,j in zip(df['CY3_pos'],df['CY5_CY3_pos'])]\n",
    "\n",
    "orangeBars = [i / j * 100 for i,j in zip(df['CY3_pos'], totals)]\n",
    "\n",
    "blueBars = [i / j * 100 for i,j in zip(df['CY5_CY3_pos'], totals)]\n",
    "\n",
    "\n",
    "# plot\n",
    "barWidth = 0.85\n",
    "names = hours\n",
    "\n",
    "# Create orange Bars\n",
    "plt.bar(r, orangeBars, color='#f9bc86', edgecolor='white', width=barWidth, label='CY3 positive')\n",
    "\n",
    "# Create green Bars\n",
    "plt.bar(r, blueBars,bottom=orangeBars, color='#a3acff', edgecolor='white', width=barWidth, label='CY3 and CY5 positive')\n",
    "\n",
    "# Custom x axis\n",
    "plt.xticks(r, names)\n",
    "plt.ylabel('fraction of cells (%)')\n",
    "plt.xlabel(\"time\")\n",
    "\n",
    "# Add a legend\n",
    "plt.legend(loc='upper left', bbox_to_anchor=(1,1), ncol=1)\n",
    "\n",
    "plt.tight_layout()\n",
    "plt.savefig(r'..\\figures\\publication_two_groups_fraction_of_CY5_CY3_positive_cells.svg', dpi=500)\n",
    "\n",
    "# Show graphic\n",
    "plt.show()"
   ]
  },
  {
   "cell_type": "markdown",
   "id": "3dac7a78",
   "metadata": {},
   "source": [
    "***"
   ]
  },
  {
   "cell_type": "markdown",
   "id": "b3f83a5a",
   "metadata": {},
   "source": [
    "In the next Notebook (**Notebooks_Data_exploration\\NotebookExtra_Macrophage_infection_rate.ipynb**), We will determine the infection rate in Macrophages during our infection experiment. Note, this notebook was extra and not used in our publication."
   ]
  }
 ],
 "metadata": {
  "kernelspec": {
   "display_name": "napari",
   "language": "python",
   "name": "napari"
  },
  "language_info": {
   "codemirror_mode": {
    "name": "ipython",
    "version": 3
   },
   "file_extension": ".py",
   "mimetype": "text/x-python",
   "name": "python",
   "nbconvert_exporter": "python",
   "pygments_lexer": "ipython3",
   "version": "3.9.13"
  }
 },
 "nbformat": 4,
 "nbformat_minor": 5
}
