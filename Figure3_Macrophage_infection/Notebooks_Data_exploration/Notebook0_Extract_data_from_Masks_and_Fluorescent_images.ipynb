{
 "cells": [
  {
   "cell_type": "markdown",
   "id": "cedae78f",
   "metadata": {},
   "source": [
    "## <font color='seagreen'> Notebook0 Extract data from Masks and Fluorescent images </font>"
   ]
  },
  {
   "cell_type": "markdown",
   "id": "db938c9b",
   "metadata": {},
   "source": [
    "In this notebook, we will extract the intensity distributions of both the Vybrant DiD dye (CY5 channel) and Msm-DSRed (CY3 channel) intensity of single-bacteria during macrophage infections. We will also extract these intensities for single macrophages. Previosuly, the masks for single bacteria and macrophages where manually annotated using the Napari image viewer. Here we extract the fluorescent image data per single macrophage or bacteria. "
   ]
  },
  {
   "cell_type": "code",
   "execution_count": null,
   "id": "4e7b46d5",
   "metadata": {},
   "outputs": [],
   "source": [
    "#loading libaries.\n",
    "import napari\n",
    "import os\n",
    "import numpy as np\n",
    "from glob import glob\n",
    "from joblib import load\n",
    "from functools import partial\n",
    "from skimage import io,segmentation,data, feature, future\n",
    "from sklearn.ensemble import RandomForestClassifier\n",
    "from magicgui import magicgui\n",
    "from pathlib import Path\n",
    "import matplotlib.pyplot as plt\n",
    "from PIL import Image\n",
    "from skimage.measure import regionprops_table\n",
    "import pandas as pd"
   ]
  },
  {
   "cell_type": "markdown",
   "id": "5f36aa8e",
   "metadata": {},
   "source": [
    "***"
   ]
  },
  {
   "cell_type": "markdown",
   "id": "69a8d362",
   "metadata": {},
   "source": [
    "## Load image paths"
   ]
  },
  {
   "cell_type": "markdown",
   "id": "1c405778",
   "metadata": {},
   "source": [
    "Different time points and properties to extract."
   ]
  },
  {
   "cell_type": "code",
   "execution_count": null,
   "id": "3068ab5c",
   "metadata": {},
   "outputs": [],
   "source": [
    "hours=[0,12,24,36,48, 72]\n",
    "channels=['DIC','DAPI','CY5','CY3']\n",
    "props=['label','area','centroid','perimeter']\n",
    "props_2=['label','area','centroid','intensity_max','intensity_min','intensity_mean']"
   ]
  },
  {
   "cell_type": "code",
   "execution_count": null,
   "id": "6d4ba507",
   "metadata": {},
   "outputs": [],
   "source": [
    "def  look_up_images(r):\n",
    "    print(hours)\n",
    "    #path multidimensional fluorescent images\n",
    "    path_3D=fr'..\\Data\\{hours[r]} Hr\\{hours[r]} Hr\\*.TIF'\n",
    "    #path DIC images\n",
    "    path_DICs=fr'..\\Data\\{hours[r]} Hr\\DIC\\*.TIF'\n",
    "    #path Macrophages\n",
    "    path_Mask=fr'..\\Data\\{hours[r]} Hr\\{hours[r]} Hr\\cell masks\\*.TIF'\n",
    "    #path Bactera\n",
    "    path_sBacteria=fr'..\\Data\\{hours[r]} Hr\\{hours[r]} Hr\\single_bacteria\\*.TIF'\n",
    "    \n",
    "    #get image full filenames\n",
    "    TDs=glob(path_3D)\n",
    "    DICs=glob(path_DICs)\n",
    "    masks=glob(path_Mask)\n",
    "    sBacterias=glob(path_sBacteria)\n",
    "    filenames=glob(path_DICs)\n",
    "\n",
    "    return filenames,masks, DICs, TDs, sBacterias"
   ]
  },
  {
   "cell_type": "markdown",
   "id": "8db249c1",
   "metadata": {},
   "source": [
    "Check whether Masks and loaded Images are congruent."
   ]
  },
  {
   "cell_type": "code",
   "execution_count": null,
   "id": "fb8ae534",
   "metadata": {
    "scrolled": false
   },
   "outputs": [],
   "source": [
    "for r in range(0,len(hours)):\n",
    "    print(r)\n",
    "    filenames,masks, DICs, TDs, sBacterias=look_up_images(r)\n",
    "    for mask,filename, sBacteria, DIC in zip(masks, filenames, sBacterias,DICs):\n",
    "        fig,ax=plt.subplots(1,2)\n",
    "        try:\n",
    "            ax[0].imshow(io.imread(mask))\n",
    "            ax[1].imshow(io.imread(DIC))\n",
    "        except:\n",
    "            print(f'{mask}\\n{DIC}')\n",
    "            pass\n",
    "        plt.show()"
   ]
  },
  {
   "cell_type": "code",
   "execution_count": null,
   "id": "0be50ad6",
   "metadata": {},
   "outputs": [],
   "source": [
    "hours=[0,12,24,36,48,72]\n",
    "CY5_names={'intenistiy_max':'CY5_intenistiy_max','intensity_min':'CY5_intensity_min','intensity_mean':'CY5_intensity_mean'}\n",
    "CY3_names={'intenistiy_max':'CY3_intenistiy_max','intensity_min':'CY3_intensity_min','intensity_mean':'CY3_intensity_mean'}"
   ]
  },
  {
   "cell_type": "markdown",
   "id": "035d4e67",
   "metadata": {},
   "source": [
    "***"
   ]
  },
  {
   "cell_type": "markdown",
   "id": "7d2ce765",
   "metadata": {},
   "source": [
    "## Extract fluorescent intensities for single bacteria"
   ]
  },
  {
   "cell_type": "markdown",
   "id": "795cb706",
   "metadata": {},
   "source": [
    "extract data for single-cell bacteria."
   ]
  },
  {
   "cell_type": "code",
   "execution_count": null,
   "id": "db51e2ec",
   "metadata": {},
   "outputs": [],
   "source": [
    "results=[]\n",
    "\n",
    "for r in range(0,len(hours)):\n",
    "    print(r)\n",
    "    filenames,masks, DICs, TDs, sBacterias=look_up_images(r)\n",
    "    counter=0\n",
    "    for mask,filename, sBacteria, TD, DIC in zip(masks, filenames, sBacterias,TDs,DICs):\n",
    "        \n",
    "        #load images\n",
    "        img = io.imread(TD, plugin='pil')\n",
    "        CY3= img[:41,...]\n",
    "        CY5= img[82:123,...]\n",
    "        \n",
    "        #load bacterial masks\n",
    "        bac_mask=io.imread(sBacteria)\n",
    "        \n",
    "        #create regionprop frames\n",
    "        CY3_frame=pd.DataFrame(regionprops_table(bac_mask, CY3, properties=props_2))\n",
    "        CY5_frame=pd.DataFrame(regionprops_table(bac_mask, CY5, properties=props_2))\n",
    "        \n",
    "        #rename columns\n",
    "        CY5_frame=CY5_frame.rename(columns=CY5_names)\n",
    "        CY3_frame=CY3_frame.rename(columns=CY3_names)\n",
    "        \n",
    "        #merge bacterial columns \n",
    "        result = pd.concat([CY5_frame, CY3_frame], axis=1, join='outer')\n",
    "        result = result.loc[:,~result.columns.duplicated()].copy()\n",
    "        \n",
    "        \n",
    "        #macrophage\n",
    "        mac_mask=io.imread(mask)\n",
    "        \n",
    "        labels=[] \n",
    "        for index,row in result.iterrows():\n",
    "            x=int(row[3])\n",
    "            y=int(row[4])\n",
    "            label=mac_mask[x,y]\n",
    "            labels.append(label)\n",
    "        \n",
    "        result['macrophage_label']=labels\n",
    "        result['time']=hours[r]\n",
    "        result['img_ID']=counter\n",
    "        results.append(result)\n",
    "        \n",
    "        counter+=1"
   ]
  },
  {
   "cell_type": "code",
   "execution_count": null,
   "id": "58c5dc63",
   "metadata": {},
   "outputs": [],
   "source": [
    "big_frame=pd.concat(results)\n",
    "big_frame=big_frame.reset_index()\n",
    "#add unique identifier for each bacteria\n",
    "big_frame['unique_identifiers']=big_frame['label'].astype(str)+'_'+big_frame['macrophage_label'].astype(str)+'_'+big_frame['time'].astype(str)+'_'+big_frame['img_ID'].astype(str)"
   ]
  },
  {
   "cell_type": "code",
   "execution_count": null,
   "id": "4907f69a",
   "metadata": {},
   "outputs": [],
   "source": [
    "#uncomment to overwrite and save data\n",
    "#big_frame.to_pickle('../Results/final_single_bacteria.pkl')"
   ]
  },
  {
   "cell_type": "markdown",
   "id": "eb5456d8",
   "metadata": {},
   "source": [
    "***"
   ]
  },
  {
   "cell_type": "markdown",
   "id": "ec9c3464",
   "metadata": {},
   "source": [
    "## Extract macrophage fluorescent intensities"
   ]
  },
  {
   "cell_type": "markdown",
   "id": "107f4b5e",
   "metadata": {},
   "source": [
    "Extract Macrophage single-cell properties."
   ]
  },
  {
   "cell_type": "code",
   "execution_count": null,
   "id": "2378d561",
   "metadata": {},
   "outputs": [],
   "source": [
    "results=[]\n",
    "\n",
    "for r in range(0,len(hours)):\n",
    "    print(r)\n",
    "    filenames,masks, DICs, TDs, sBacterias=look_up_images(r)\n",
    "    counter=0\n",
    "    for mask,filename, sBacteria, TD, DIC in zip(masks, filenames, sBacterias,TDs,DICs):\n",
    "        \n",
    "        #load images\n",
    "        img = io.imread(TD, plugin='pil')\n",
    "        CY3= img[:41,...]\n",
    "        CY3= np.amax(CY3[10:30,...],axis=0)\n",
    "        CY5= img[82:123,...]\n",
    "        CY5= np.amax(CY5[10:30,...],axis=0)\n",
    "        \n",
    "        #read macrophage mask\n",
    "        mac_mask=io.imread(mask)\n",
    "        \n",
    "        #create regionprop frames\n",
    "        CY3_frame=pd.DataFrame(regionprops_table(mac_mask, CY3, properties=props_2))\n",
    "        CY5_frame=pd.DataFrame(regionprops_table(mac_mask, CY5, properties=props_2))\n",
    "        \n",
    "        #rename columns\n",
    "        CY5_frame=CY5_frame.rename(columns=CY5_names)\n",
    "        CY3_frame=CY3_frame.rename(columns=CY3_names)\n",
    "        \n",
    "        #merge bacterial columns \n",
    "        result = pd.concat([CY5_frame, CY3_frame], axis=1, join='outer')\n",
    "        result = result.loc[:,~result.columns.duplicated()].copy()\n",
    "               \n",
    "        result['time']=hours[r]\n",
    "        result['img_ID']=counter\n",
    "        counter+=1\n",
    "        results.append(result)\n",
    "mac_frame=pd.concat(results)\n",
    "mac_frame=mac_frame.reset_index()"
   ]
  },
  {
   "cell_type": "markdown",
   "id": "3089478b",
   "metadata": {},
   "source": [
    "Add unique identifier macrophages."
   ]
  },
  {
   "cell_type": "code",
   "execution_count": null,
   "id": "0138a1b5",
   "metadata": {},
   "outputs": [],
   "source": [
    "mac_frame['unique_ID']=mac_frame['label'].astype(str)+'_'+mac_frame['time'].astype(str)+'_'+mac_frame['img_ID'].astype(str)"
   ]
  },
  {
   "cell_type": "markdown",
   "id": "9fa0dcf6",
   "metadata": {},
   "source": [
    "add identifier for counting bacteria per macrophage in bacterial dataframe."
   ]
  },
  {
   "cell_type": "code",
   "execution_count": null,
   "id": "277be599",
   "metadata": {},
   "outputs": [],
   "source": [
    "big_frame['unique_identifiers_wolabel']=big_frame['macrophage_label'].astype(str)+'_'+big_frame['time'].astype(str)+'_'+big_frame['img_ID'].astype(str)"
   ]
  },
  {
   "cell_type": "code",
   "execution_count": null,
   "id": "e1b1c56b",
   "metadata": {},
   "outputs": [],
   "source": [
    "filtered=big_frame[big_frame['CY5_intensity_mean']>0]# no threshold is set here\n",
    "dict_number_bac=dict(filtered['unique_identifiers_wolabel'].value_counts())\n",
    "bac_numbers=[]\n",
    "for key in mac_frame.unique_ID:\n",
    "    value=dict_number_bac.get(key,0)\n",
    "    bac_numbers.append(value)\n",
    "mac_frame['bacteria']= bac_numbers\n",
    "\n",
    "#plot\n",
    "axis = sns.violinplot(x=\"time\", y=f\"bacteria_CY5\", data=mac_frame, color=\".8\", scale='width')\n",
    "axis=sns.stripplot(x='time', y=f'bacteria_CY5',data=mac_frame,alpha=0.7, s=3)\n",
    "axis.set_xlabel('time (hours)')\n",
    "axis.set_title(f'Number of Bacteria per Macrophage')\n",
    "axis.set_ylabel('Bacteria')\n",
    "plt.show()"
   ]
  },
  {
   "cell_type": "code",
   "execution_count": null,
   "id": "c49421d0",
   "metadata": {},
   "outputs": [],
   "source": [
    "#uncomment to overwrite and save data\n",
    "#mac_frame.to_pickle('..\\Results\\final_macrophages_dataframe.pkl')"
   ]
  },
  {
   "cell_type": "markdown",
   "id": "b660d511",
   "metadata": {},
   "source": [
    "***"
   ]
  },
  {
   "cell_type": "markdown",
   "id": "2bf1975c",
   "metadata": {},
   "source": [
    "In the next Notebook (**Notebooks_Data_exploration\\Notebook1_Plotting_Fluorescence_Distributions_of_Vybrant DiD-MSm-DsRed_intensities.ipynb**), we will plot the fluorescent distribution of Vybrant DiD dye."
   ]
  }
 ],
 "metadata": {
  "kernelspec": {
   "display_name": "napari",
   "language": "python",
   "name": "napari"
  },
  "language_info": {
   "codemirror_mode": {
    "name": "ipython",
    "version": 3
   },
   "file_extension": ".py",
   "mimetype": "text/x-python",
   "name": "python",
   "nbconvert_exporter": "python",
   "pygments_lexer": "ipython3",
   "version": "3.9.13"
  }
 },
 "nbformat": 4,
 "nbformat_minor": 5
}
