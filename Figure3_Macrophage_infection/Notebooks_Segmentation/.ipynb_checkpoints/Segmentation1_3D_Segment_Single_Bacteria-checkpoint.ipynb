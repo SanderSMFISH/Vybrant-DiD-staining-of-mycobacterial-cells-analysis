{
 "cells": [
  {
   "cell_type": "markdown",
   "id": "f14c98f0",
   "metadata": {},
   "source": [
    "## <font color='seagreen'> Segmentation1 3D Segment Single Bacteria </font>"
   ]
  },
  {
   "cell_type": "markdown",
   "id": "dcf53061",
   "metadata": {},
   "source": [
    "In this Notebook, we will perform the segmenation of single bacteria within Napari in 3D. The segmenation was performed manually but aided by some widgets shown in this notebook."
   ]
  },
  {
   "cell_type": "code",
   "execution_count": 5,
   "id": "8b44a834",
   "metadata": {},
   "outputs": [],
   "source": [
    "#load libraries.\n",
    "import napari\n",
    "import os\n",
    "import numpy as np\n",
    "from glob import glob\n",
    "from functools import partial\n",
    "from skimage import io,segmentation,data, feature, future \n",
    "from magicgui import magicgui\n",
    "from pathlib import Path"
   ]
  },
  {
   "cell_type": "markdown",
   "id": "865952b1",
   "metadata": {},
   "source": [
    "***"
   ]
  },
  {
   "cell_type": "markdown",
   "id": "342e4b82",
   "metadata": {},
   "source": [
    "Some functions to add manual drawing. Not necessary."
   ]
  },
  {
   "cell_type": "code",
   "execution_count": 6,
   "id": "496538a8",
   "metadata": {},
   "outputs": [],
   "source": [
    "from skimage.morphology import binary_erosion, binary_dilation\n",
    "def erosion(img, iter):\n",
    "    for i in range(0,iter):\n",
    "        img=binary_erosion(img)\n",
    "    return img\n",
    "\n",
    "def dilation(img, iter):\n",
    "    for i in range(0,iter):\n",
    "        img=binary_dilation(img)\n",
    "    return img"
   ]
  },
  {
   "cell_type": "markdown",
   "id": "2f1b3fbe",
   "metadata": {},
   "source": [
    "different timepoints."
   ]
  },
  {
   "cell_type": "code",
   "execution_count": 7,
   "id": "ee8833eb",
   "metadata": {},
   "outputs": [],
   "source": [
    "hours_options=[0,12,24,36,48,72]"
   ]
  },
  {
   "cell_type": "markdown",
   "id": "cf7e9fbd",
   "metadata": {},
   "source": [
    "Image Selection and Visualization options:"
   ]
  },
  {
   "cell_type": "code",
   "execution_count": 8,
   "id": "a6998856",
   "metadata": {},
   "outputs": [],
   "source": [
    "hour=hours_options[0]\n",
    "#image path\n",
    "path_imgs=fr'..\\Data\\{hour} Hr\\{hour} hr\\*.TIF'\n",
    "#select fov to observe; which image in folder\n",
    "fov=4\n",
    "#shape of your images (c,z,x,y)\n",
    "shape=(3,41,2304,2304)\n",
    "#which layers are in focus?\n",
    "focus=[0,41]\n",
    "#channel order\n",
    "channels=['CY3','DAPI','CY5']\n",
    "#colors to display different channels in Napari\n",
    "colors=['green','blue','bop purple']\n",
    "#set intensity ranges (these can be adjusted in napari as well).\n",
    "cls=[[0.05,1],[0,8,1],[0.05,1]]"
   ]
  },
  {
   "cell_type": "markdown",
   "id": "82090570",
   "metadata": {},
   "source": [
    "Load images."
   ]
  },
  {
   "cell_type": "code",
   "execution_count": 9,
   "id": "686e4dbe",
   "metadata": {},
   "outputs": [
    {
     "name": "stdout",
     "output_type": "stream",
     "text": [
      "(3, 41, 2304, 2304)\n"
     ]
    }
   ],
   "source": [
    "filenames=glob(path_imgs)\n",
    "img=io.imread(filenames[fov], plugin='pil')\n",
    "img=np.reshape(img,shape)\n",
    "print(img.shape)"
   ]
  },
  {
   "cell_type": "markdown",
   "id": "18ffc575",
   "metadata": {},
   "source": [
    "Open Napari."
   ]
  },
  {
   "cell_type": "code",
   "execution_count": 8,
   "id": "499fbadb",
   "metadata": {},
   "outputs": [
    {
     "name": "stderr",
     "output_type": "stream",
     "text": [
      "WARNING: DirectWrite: CreateFontFaceFromHDC() failed (Indicates an error in an input file such as a font file.) for QFontDef(Family=\"\", pointsize=12, pixelsize=16, styleHint=5, weight=50, stretch=100, hintingPreference=0) LOGFONT(\"MS Sans Serif\", lfWidth=0, lfHeight=-16) dpi=96\n"
     ]
    },
    {
     "data": {
      "text/plain": [
       "<napari._qt.widgets.qt_viewer_dock_widget.QtViewerDockWidget at 0x1ff05122ee0>"
      ]
     },
     "execution_count": 8,
     "metadata": {},
     "output_type": "execute_result"
    }
   ],
   "source": [
    "from napari.types import LabelsData, ImageData\n",
    "from scipy.ndimage import label as nlabel\n",
    "\n",
    "viewer = napari.Viewer()\n",
    "viewer.add_image(img[:,focus[0]:focus[1],...],name=channels,blending='additive',colormap=colors, channel_axis=0)\n",
    "viewer.add_labels(np.zeros((2304,2304),dtype=np.int64),name=\"Labels\")\n",
    "\n",
    "@magicgui(auto_call=False,call_button='Threshold')\n",
    "def threshold(image: ImageData, threshold: int = 12) -> LabelsData:\n",
    "    image =(image*(100/image.max()))\n",
    "    seeds=image>threshold\n",
    "    seeds=erosion(seeds,3)\n",
    "    seeds=dilation(seeds,3)\n",
    "    markers,_=nlabel(seeds)\n",
    "    \n",
    "    return markers\n",
    "\n",
    "@magicgui(auto_call=True,call_button='Threshold_Drawing')\n",
    "def threshold_draw(image: ImageData, threshold: int = 12) -> LabelsData:\n",
    "    image =(image*(100/image.max()))\n",
    "    threshold_img=image>threshold\n",
    "    threshold_img=erosion(threshold_img,3)\n",
    "    threshold_img=dilation(threshold_img,3)\n",
    "    threshold_img,_=nlabel(threshold_img)\n",
    "    label=viewer.layers['Labels'].data.astype(np.uint64)\n",
    "    th_label=np.where(threshold_img>0, label,0)\n",
    "    try:\n",
    "        viewer.layers.remove('Labels')\n",
    "    except:\n",
    "        pass\n",
    "    viewer.add_labels(th_label,name=\"Labels\")\n",
    "\n",
    "viewer.window.add_dock_widget(threshold)\n",
    "viewer.window.add_dock_widget(threshold_draw)"
   ]
  },
  {
   "cell_type": "markdown",
   "id": "c8c0f540",
   "metadata": {},
   "source": [
    "***"
   ]
  },
  {
   "cell_type": "markdown",
   "id": "edf5ea30",
   "metadata": {},
   "source": [
    "Save single-cell Bacteria masks:"
   ]
  },
  {
   "cell_type": "code",
   "execution_count": null,
   "id": "d3ca563e",
   "metadata": {},
   "outputs": [],
   "source": [
    "root,filename=os.path.split(filenames[fov])\n",
    "x=np.zeros((41,2304,2304),dtype=np.uint32)\n",
    "\n",
    "x[focus[0]:focus[1],...]=viewer.layers['Labels'].data.astype(np.uint32)\n",
    "cell_spath=os.path.join(root,\"single_bacteria\")\n",
    "\n",
    "fcell_spath=os.path.join(cell_spath,filename)\n",
    "Path(cell_spath).mkdir(parents=True, exist_ok=True)\n",
    "print(fcell_spath)\n",
    "\n",
    "#uncomment to overwrite and save masks\n",
    "#io.imsave(fcell_spath,x)"
   ]
  },
  {
   "cell_type": "markdown",
   "id": "d9acb420",
   "metadata": {},
   "source": [
    "***"
   ]
  },
  {
   "cell_type": "markdown",
   "id": "737e3b91",
   "metadata": {},
   "source": [
    "In the next Notebook (**Notebooks_Segmenation\\Segmenation2_2D_segmentation_Single_Macrophages.ipynb**), we will extract the fluorescent intensities for each individual cell mask label of both macrophages and bacteria"
   ]
  }
 ],
 "metadata": {
  "kernelspec": {
   "display_name": "napari",
   "language": "python",
   "name": "napari"
  },
  "language_info": {
   "codemirror_mode": {
    "name": "ipython",
    "version": 3
   },
   "file_extension": ".py",
   "mimetype": "text/x-python",
   "name": "python",
   "nbconvert_exporter": "python",
   "pygments_lexer": "ipython3",
   "version": "3.9.13"
  }
 },
 "nbformat": 4,
 "nbformat_minor": 5
}
