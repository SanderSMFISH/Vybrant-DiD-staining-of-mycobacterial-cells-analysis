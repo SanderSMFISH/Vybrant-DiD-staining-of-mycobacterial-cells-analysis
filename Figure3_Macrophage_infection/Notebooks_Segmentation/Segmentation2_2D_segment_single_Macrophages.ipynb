{
 "cells": [
  {
   "cell_type": "markdown",
   "id": "f8173a5d",
   "metadata": {},
   "source": [
    "## <font color='seagreen'> Segmentation2 2D Segment Single Macrophages </font>"
   ]
  },
  {
   "cell_type": "markdown",
   "id": "3b9edb20",
   "metadata": {},
   "source": [
    "In this Notebook, we will perform the segmenation of single macrophages within Napari in 2D. The segmenation was performed manually but aided by some widgets shown in this notebook."
   ]
  },
  {
   "cell_type": "code",
   "execution_count": null,
   "id": "58eff9e4",
   "metadata": {},
   "outputs": [],
   "source": [
    "#Load libraries.\n",
    "import napari\n",
    "import os\n",
    "import numpy as np\n",
    "from glob import glob\n",
    "from joblib import load\n",
    "from functools import partial\n",
    "from skimage import io,segmentation,data\n",
    "from magicgui import magicgui\n",
    "from pathlib import Path"
   ]
  },
  {
   "cell_type": "markdown",
   "id": "d1fbbc9e",
   "metadata": {},
   "source": [
    "***"
   ]
  },
  {
   "cell_type": "markdown",
   "id": "0b74f486",
   "metadata": {},
   "source": [
    "### Defining Parameters"
   ]
  },
  {
   "cell_type": "markdown",
   "id": "4fd3344e",
   "metadata": {},
   "source": [
    "Define parameters to select images to analyse and correctly display these in Napari:"
   ]
  },
  {
   "cell_type": "code",
   "execution_count": null,
   "id": "68c3a942",
   "metadata": {},
   "outputs": [],
   "source": [
    "hours_options=[0,12,24,36,48,72]\n",
    "hour=hours_options[0]\n",
    "#image path\n",
    "path_imgs=fr'..\\Data\\{hour} Hr\\{hour} hr\\*.TIF'\n",
    "path_DICs=fr'..\\Data\\{hour} Hr\\DIC\\*.TIF'\n",
    "#select fov to observe; which image in folder\n",
    "fov=3\n",
    "#shape of your images (c,z,x,y)\n",
    "shape=(3,41,2304,2304)\n",
    "#which layers are in focus?\n",
    "focus=[15,35]\n",
    "#channel order\n",
    "channels=['CY3_5','DAPI','CY5']\n",
    "#colors to display different channels in Napari\n",
    "colors=['green','blue','bop purple']\n",
    "#set intensity ranges (these can be adjusted in napari as well).\n",
    "cls=[[0.05,1],[0,8,1],[0.05,1]]"
   ]
  },
  {
   "cell_type": "markdown",
   "id": "847b247d",
   "metadata": {},
   "source": [
    "Parameters for feature stack establishment. No need to change to anything."
   ]
  },
  {
   "cell_type": "code",
   "execution_count": null,
   "id": "776314ca",
   "metadata": {},
   "outputs": [],
   "source": [
    "sigma_min = 1\n",
    "sigma_max = 20\n",
    "\n",
    "features_func = partial(feature.multiscale_basic_features,\n",
    "                        intensity=True, edges=False, texture=True,\n",
    "                        sigma_min=sigma_min, sigma_max=sigma_max)"
   ]
  },
  {
   "cell_type": "markdown",
   "id": "b0c74f3a",
   "metadata": {},
   "source": [
    "Load image:"
   ]
  },
  {
   "cell_type": "code",
   "execution_count": null,
   "id": "2be6c44c",
   "metadata": {},
   "outputs": [],
   "source": [
    "filenames=glob(path_imgs)\n",
    "img=io.imread(filenames[fov], plugin='pil')\n",
    "img=np.reshape(img,shape)\n",
    "DIC_filenames=glob(path_DICs)\n",
    "DIC=io.imread(DIC_filenames[fov])\n",
    "print(img.shape,DIC.shape)"
   ]
  },
  {
   "cell_type": "markdown",
   "id": "5cd7cb24",
   "metadata": {},
   "source": [
    "Zproject the image:"
   ]
  },
  {
   "cell_type": "code",
   "execution_count": null,
   "id": "0065f0d6",
   "metadata": {},
   "outputs": [],
   "source": [
    "zproject=np.amax(img[:,focus[0]:focus[1],...],axis=1,keepdims=True)\n",
    "zproject.shape"
   ]
  },
  {
   "cell_type": "markdown",
   "id": "58e79d12",
   "metadata": {},
   "source": [
    "select DAPI threshold. You can also select this threshold later in Napari. If you want to do this set threshold to None."
   ]
  },
  {
   "cell_type": "code",
   "execution_count": null,
   "id": "6ac7b5cf",
   "metadata": {
    "scrolled": false
   },
   "outputs": [],
   "source": [
    "#select DAPI threshold \n",
    "DAPI_threshold=None"
   ]
  },
  {
   "cell_type": "markdown",
   "id": "d90d1fc9",
   "metadata": {},
   "source": [
    "### Segmentation"
   ]
  },
  {
   "cell_type": "markdown",
   "id": "aa955beb",
   "metadata": {},
   "source": [
    "Load images in Napari and create cell and nuclei masks. Additionally, we can annotate mother bud relationship:"
   ]
  },
  {
   "cell_type": "code",
   "execution_count": null,
   "id": "621d0c06",
   "metadata": {
    "scrolled": true
   },
   "outputs": [],
   "source": [
    "viewer = napari.Viewer()\n",
    "\n",
    "for i in range(0,shape[0]):\n",
    "    x=zproject[i,...]\n",
    "    x=np.squeeze(x,axis=0)\n",
    "    viewer.add_image(x,name=channels[i],blending='additive',colormap=colors[i])\n",
    "viewer.add_image(DIC,opacity=0.25)\n",
    "\n",
    "from napari.layers import Labels\n",
    "from napari.types import LabelsData\n",
    "from skimage.morphology import remove_small_holes\n",
    "from skimage.morphology import remove_small_objects\n",
    "\n",
    "@magicgui(auto_call=False,call_button='Remove small labels')\n",
    "def remove(labels: Labels, area: int = 100) -> LabelsData:\n",
    "    rlabels=remove_small_objects(labels.data,area)\n",
    "    print(labels.name)\n",
    "    try:\n",
    "        viewer.layers.remove(labels.name)\n",
    "    except:\n",
    "        pass\n",
    "    viewer.add_labels(rlabels,name=labels.name)\n",
    "    \n",
    "viewer.window.add_dock_widget(remove)"
   ]
  },
  {
   "cell_type": "markdown",
   "id": "f240b691",
   "metadata": {},
   "source": [
    "Save single-cell Macrophages masks."
   ]
  },
  {
   "cell_type": "code",
   "execution_count": null,
   "id": "c21fe33b",
   "metadata": {},
   "outputs": [],
   "source": [
    "root,filename=os.path.split(filenames[fov])\n",
    "\n",
    "# save cell_masks:\n",
    "cell_spath=os.path.join(root,\"cell masks\")\n",
    "fcell_spath=os.path.join(cell_spath,filename)\n",
    "Path(cell_spath).mkdir(parents=True, exist_ok=True)\n",
    "\n",
    "#uncomment to overwrite and save created mask\n",
    "#io.imsave(fcell_spath,viewer.layers['Labels'].data.astype(np.uint16))"
   ]
  },
  {
   "cell_type": "markdown",
   "id": "d4a97be5",
   "metadata": {},
   "source": [
    "***"
   ]
  },
  {
   "cell_type": "markdown",
   "id": "d89399b6",
   "metadata": {},
   "source": [
    "In the next Notebook (**Notebooks_Data_exploration\\Notebook0_Extract_data_from_Masks_and_Fluorescent_images.ipynb**), we will extract the fluorescent intensities for each individual cell mask label of both macrophages and bacteria."
   ]
  }
 ],
 "metadata": {
  "kernelspec": {
   "display_name": "napari",
   "language": "python",
   "name": "napari"
  },
  "language_info": {
   "codemirror_mode": {
    "name": "ipython",
    "version": 3
   },
   "file_extension": ".py",
   "mimetype": "text/x-python",
   "name": "python",
   "nbconvert_exporter": "python",
   "pygments_lexer": "ipython3",
   "version": "3.9.13"
  }
 },
 "nbformat": 4,
 "nbformat_minor": 5
}
